{
 "cells": [
  {
   "cell_type": "markdown",
   "metadata": {},
   "source": [
    "# Сортировки, множества и словари\n",
    "\n"
   ]
  },
  {
   "cell_type": "code",
   "execution_count": 2,
   "metadata": {},
   "outputs": [
    {
     "name": "stdout",
     "output_type": "stream",
     "text": [
      "1 3 5 67 8 3 2\n",
      "1 2 3 3 5 8 67\n"
     ]
    }
   ],
   "source": [
    "# упорядочиваем список с помощью метода\n",
    "# применяется только к спискам\n",
    "lst = list(map(int, input().split()))\n",
    "lst.sort()\n",
    "# избавляемся от скобочек и запятых, выводим через пробел\n",
    "print(*lst)"
   ]
  },
  {
   "cell_type": "code",
   "execution_count": 3,
   "metadata": {},
   "outputs": [
    {
     "name": "stdout",
     "output_type": "stream",
     "text": [
      "1 3 5 67 8 3 2\n",
      "1 2 3 3 5 8 67\n"
     ]
    }
   ],
   "source": [
    "# упорядочиваем список с помощью функции\n",
    "lst = list(map(int, input().split()))\n",
    "sortedlst = sorted(lst) # создаёт копию\n",
    "print(*sortedlst)"
   ]
  },
  {
   "cell_type": "code",
   "execution_count": 4,
   "metadata": {},
   "outputs": [
    {
     "name": "stdout",
     "output_type": "stream",
     "text": [
      "a b c d\n"
     ]
    }
   ],
   "source": [
    "# упорядочиваем строку с помощью функции\n",
    "sortedlst = sorted('bcda') \n",
    "print(*sortedlst)"
   ]
  },
  {
   "cell_type": "code",
   "execution_count": 5,
   "metadata": {},
   "outputs": [
    {
     "name": "stdout",
     "output_type": "stream",
     "text": [
      "1 3 5 67 8 3 2\n",
      "67 8 5 3 3 2 1\n"
     ]
    }
   ],
   "source": [
    "# ещё способ развернуть список\n",
    "lst = list(map(int, input().split()))\n",
    "sortedlst = sorted(lst, reverse=True) \n",
    "print(*sortedlst)"
   ]
  },
  {
   "cell_type": "code",
   "execution_count": 7,
   "metadata": {},
   "outputs": [
    {
     "name": "stdout",
     "output_type": "stream",
     "text": [
      "('Chepiga', 186) ('Mishkin', 185) ('Ponyaev', 153)\n"
     ]
    }
   ],
   "source": [
    "# пробуем сортировать кортеж\n",
    "tup = (('Mishkin', 185), ('Chepiga', 186), ('Ponyaev', 153))\n",
    "sortedtyp = sorted(tup)\n",
    "print(*sortedtyp)"
   ]
  },
  {
   "cell_type": "markdown",
   "metadata": {},
   "source": [
    "Сортируюся так: \n",
    "- если есть несколько элементов в кортеже - сравниваем сначала нулевые\n",
    "- если нулевой элемент нулевого контежа меньше - то весь кортеж меньше\n",
    "- если совпадают - тогда переходим к первому элементу"
   ]
  },
  {
   "cell_type": "code",
   "execution_count": 8,
   "metadata": {},
   "outputs": [
    {
     "name": "stdout",
     "output_type": "stream",
     "text": [
      "('Ponyaev', 153) ('Mishkin', 185) ('Chepiga', 186)\n"
     ]
    }
   ],
   "source": [
    "# сравниваем кортежи по параметру\n",
    "# каждый элемент сортируемой последовательности передаётся в качестве параметра\n",
    "# функция возвращает то, что будет сравниваться\n",
    "def mykey(x):\n",
    "    return x[1]\n",
    "\n",
    "tup = (('Mishkin', 185), ('Chepiga', 186), ('Ponyaev', 153))\n",
    "sortedtyp = sorted(tup, key = mykey)  # именованный параметр - функция, которая достаёт ключ из элемента\n",
    "print(*sortedtyp)"
   ]
  },
  {
   "cell_type": "code",
   "execution_count": 9,
   "metadata": {},
   "outputs": [
    {
     "name": "stdout",
     "output_type": "stream",
     "text": [
      "('Mishkin', 185) ('Chepiga', 186) ('cbe', 186)\n"
     ]
    }
   ],
   "source": [
    "def mykey(x):\n",
    "    return x[1]\n",
    "\n",
    "tup = (('Mishkin', 185), ('Chepiga', 186), ('cbe', 186))\n",
    "sortedtyp = sorted(tup, key = mykey)  \n",
    "print(*sortedtyp)"
   ]
  },
  {
   "cell_type": "markdown",
   "metadata": {},
   "source": [
    "Устойчивость сортировки - мы не смотрим здесь фамилию совсем.\n",
    "Сохраняем порядок элементов так, как они шли в исходной последовательности."
   ]
  },
  {
   "cell_type": "markdown",
   "metadata": {},
   "source": [
    "## Множества и операции над их элементами\n",
    "\n",
    "Множество - тип данных set"
   ]
  },
  {
   "cell_type": "code",
   "execution_count": 13,
   "metadata": {},
   "outputs": [
    {
     "name": "stdout",
     "output_type": "stream",
     "text": [
      "{'abc', (1, 2), 2, 3, 2.5, 5, True, 7, 11, 3455}\n"
     ]
    }
   ],
   "source": [
    "myset = {2, 3, 5, 7, 11, 3455, 'abc', (1, 2), 2.5, True}\n",
    "print(myset)"
   ]
  },
  {
   "cell_type": "code",
   "execution_count": 15,
   "metadata": {},
   "outputs": [
    {
     "name": "stdout",
     "output_type": "stream",
     "text": [
      "8\n",
      "False\n"
     ]
    }
   ],
   "source": [
    "# содержится ли элемент в множестве?\n",
    "myset = {2, 3, 5, 7, 11, 3455, 'abc', (1, 2), 2.5}\n",
    "x = int(input())\n",
    "print(x in myset)"
   ]
  },
  {
   "cell_type": "code",
   "execution_count": 16,
   "metadata": {},
   "outputs": [
    {
     "name": "stdout",
     "output_type": "stream",
     "text": [
      "True\n",
      "False\n"
     ]
    }
   ],
   "source": [
    "basket = {'apple', 'orange', 'banana'}\n",
    "print('orange' in basket)\n",
    "print('python' in basket)"
   ]
  },
  {
   "cell_type": "code",
   "execution_count": 19,
   "metadata": {},
   "outputs": [
    {
     "name": "stdout",
     "output_type": "stream",
     "text": [
      "8\n",
      "False\n",
      "{'abc', (1, 2), 2, 3, 2.5, 5, 7, 8, 11, 3455}\n",
      "True\n"
     ]
    }
   ],
   "source": [
    "# добавим элемент\n",
    "myset = {2, 3, 5, 7, 11, 3455, 'abc', (1, 2), 2.5}\n",
    "x = int(input())\n",
    "print(x in myset)\n",
    "myset.add(x)\n",
    "print(myset)\n",
    "print(x in myset)"
   ]
  },
  {
   "cell_type": "code",
   "execution_count": 22,
   "metadata": {},
   "outputs": [
    {
     "name": "stdout",
     "output_type": "stream",
     "text": [
      "11\n",
      "True\n",
      "{'abc', (1, 2), 2, 3, 2.5, 5, 7, 3455}\n",
      "False\n"
     ]
    }
   ],
   "source": [
    "# удалим элемент\n",
    "myset = {2, 3, 5, 7, 11, 3455, 'abc', (1, 2), 2.5}\n",
    "x = int(input())\n",
    "print(x in myset)\n",
    "myset.remove(x)\n",
    "print(myset)\n",
    "print(x in myset)\n",
    "# попробовать удалить то, чего нет"
   ]
  },
  {
   "cell_type": "code",
   "execution_count": 24,
   "metadata": {},
   "outputs": [
    {
     "name": "stdout",
     "output_type": "stream",
     "text": [
      "7\n",
      "True\n",
      "{'abc', (1, 2), 2, 3, 2.5, 5, 11, 3455}\n",
      "False\n"
     ]
    }
   ],
   "source": [
    "# удалим элемент другим способом\n",
    "myset = {2, 3, 5, 7, 11, 3455, 'abc', (1, 2), 2.5}\n",
    "x = int(input())\n",
    "print(x in myset)\n",
    "myset.discard(x)\n",
    "print(myset)\n",
    "print(x in myset)"
   ]
  },
  {
   "cell_type": "code",
   "execution_count": 76,
   "metadata": {
    "scrolled": true
   },
   "outputs": [
    {
     "name": "stdout",
     "output_type": "stream",
     "text": [
      "set()\n"
     ]
    }
   ],
   "source": [
    "# удалим вообще всё\n",
    "myset = {2, 3, 5, 7, 11, 3455, 'abc', (1, 2), 2.5}\n",
    "myset.clear()\n",
    "print(myset)"
   ]
  },
  {
   "cell_type": "code",
   "execution_count": 25,
   "metadata": {},
   "outputs": [
    {
     "name": "stdout",
     "output_type": "stream",
     "text": [
      "banana\n",
      "orange\n",
      "apple\n",
      "pear\n"
     ]
    }
   ],
   "source": [
    "basket = {'apple', 'orange', 'banana', 'pear', 'apple'}\n",
    "for x in basket:\n",
    "    print(x)"
   ]
  },
  {
   "cell_type": "code",
   "execution_count": 27,
   "metadata": {},
   "outputs": [
    {
     "name": "stdout",
     "output_type": "stream",
     "text": [
      "2 5 7 9 4332\n",
      "{2, 5, 7, 9, 4332}\n"
     ]
    }
   ],
   "source": [
    "# создаём множество из введённых элементов\n",
    "myset = set(map(int, input().split()))\n",
    "print(myset)"
   ]
  },
  {
   "cell_type": "code",
   "execution_count": 28,
   "metadata": {},
   "outputs": [
    {
     "name": "stdout",
     "output_type": "stream",
     "text": [
      "1 4 8 5 3\n",
      "1 9 16 25 64 "
     ]
    }
   ],
   "source": [
    "# перебираем все элементы множества\n",
    "myset = set(map(int, input().split()))\n",
    "for now in myset:\n",
    "    print(now**2, end = ' ') "
   ]
  },
  {
   "cell_type": "code",
   "execution_count": 31,
   "metadata": {},
   "outputs": [
    {
     "name": "stdout",
     "output_type": "stream",
     "text": [
      "1 4 8 5 3\n",
      "1 9 16 25 64 "
     ]
    }
   ],
   "source": [
    "# перебираем все элементы множества\n",
    "# домашку\n",
    "myset = set(map(int, input().split()))\n",
    "for now in sorted(myset):\n",
    "    print(now**2, end = ' ')"
   ]
  },
  {
   "cell_type": "markdown",
   "metadata": {},
   "source": [
    "## Групповые операции над множествами"
   ]
  },
  {
   "cell_type": "code",
   "execution_count": 32,
   "metadata": {},
   "outputs": [
    {
     "name": "stdout",
     "output_type": "stream",
     "text": [
      "4 6 7 4 2 78\n",
      "456 7 8 9\n",
      "2 4 6 7 456 8 9 78\n"
     ]
    }
   ],
   "source": [
    "# объединяем множества\n",
    "set1 = set(map(int, input().split()))\n",
    "set2 = set(map(int, input().split()))\n",
    "set3 = set1 | set2\n",
    "print(*set3)"
   ]
  },
  {
   "cell_type": "code",
   "execution_count": 30,
   "metadata": {},
   "outputs": [
    {
     "name": "stdout",
     "output_type": "stream",
     "text": [
      "4 3 2 1\n",
      "1 3 5 6\n",
      "1 3\n"
     ]
    }
   ],
   "source": [
    "# ищем пересечения множеств\n",
    "set1 = set(map(int, input().split()))\n",
    "set2 = set(map(int, input().split()))\n",
    "set3 = set1 & set2\n",
    "print(*set3)"
   ]
  },
  {
   "cell_type": "code",
   "execution_count": 33,
   "metadata": {},
   "outputs": [
    {
     "name": "stdout",
     "output_type": "stream",
     "text": [
      "1 2 3 4\n",
      "2 3 5\n",
      "1 4\n"
     ]
    }
   ],
   "source": [
    "set1 = set(map(int, input().split()))\n",
    "set2 = set(map(int, input().split()))\n",
    "set3 = set1 - set2\n",
    "print(*set3)"
   ]
  },
  {
   "cell_type": "code",
   "execution_count": 32,
   "metadata": {},
   "outputs": [
    {
     "name": "stdout",
     "output_type": "stream",
     "text": [
      "1 2 3 4\n",
      "1 3 5 7 9\n",
      "2 4 5 7 9\n"
     ]
    }
   ],
   "source": [
    "# симметрическая разность\n",
    "# элементы множеств, которые не входят в их пересечение\n",
    "set1 = set(map(int, input().split()))\n",
    "set2 = set(map(int, input().split()))\n",
    "set3 = set1 ^ set2\n",
    "print(*set3)"
   ]
  },
  {
   "cell_type": "markdown",
   "metadata": {},
   "source": [
    "Когда данных много - выполняются не очень быстро, так как генерируется новый объект.\n",
    "Если вам нужно просто добавить один элемент - лучше используйте метод add, а не объединение множеств."
   ]
  },
  {
   "cell_type": "code",
   "execution_count": 34,
   "metadata": {},
   "outputs": [
    {
     "name": "stdout",
     "output_type": "stream",
     "text": [
      "set()\n"
     ]
    }
   ],
   "source": [
    "# создаём пустое множество\n",
    "a = set()\n",
    "print(a)"
   ]
  },
  {
   "cell_type": "markdown",
   "metadata": {},
   "source": [
    "## Словари\n",
    "\n",
    "Идентификатором элемента в списке может служить его индекс (положение). \n",
    "\n",
    "Но мы можем захотеть получить инфу не по индексу, а, например, по номеру автомобиля.\n",
    "Тогда мы должны выстроить структуру, где у нас у каждого значения есть какой-то свой ключ, по которому мы его найдём.\n",
    "\n",
    "Словарь - это такой список, в котором мы можем указать в качестве индекса любое значение.\n",
    "\n",
    "**dict, {}**"
   ]
  },
  {
   "cell_type": "code",
   "execution_count": 34,
   "metadata": {},
   "outputs": [
    {
     "name": "stdout",
     "output_type": "stream",
     "text": [
      "{'a': 1, 'b': 2, 'c': 3}\n"
     ]
    }
   ],
   "source": [
    "# ключ : значение\n",
    "dct = {'a': 1, 'b': 2, 'c': 3}\n",
    "print(dct)"
   ]
  },
  {
   "cell_type": "markdown",
   "metadata": {},
   "source": [
    "- Все ключи уникальны\n",
    "- Ключами могут выступать те же элементы, что есть во множестве: числа, вещественные числа, строки, кортежи\n",
    "- Не могут быть ключами изменяемые объекты: списки и можества и другие словари\n",
    "- Хранятся неупордоченно\n",
    "- Можно узнать значение по ключу, но не наоборот"
   ]
  },
  {
   "cell_type": "code",
   "execution_count": 35,
   "metadata": {},
   "outputs": [
    {
     "name": "stdout",
     "output_type": "stream",
     "text": [
      "{'a': 1, 'b': 2, 'c': 3, 'd': 4}\n"
     ]
    }
   ],
   "source": [
    "# добавление элементов\n",
    "dct = {'a': 1, 'b': 2, 'c': 3}\n",
    "dct['d'] = 4\n",
    "print(dct)"
   ]
  },
  {
   "cell_type": "code",
   "execution_count": 38,
   "metadata": {},
   "outputs": [
    {
     "name": "stdout",
     "output_type": "stream",
     "text": [
      "True\n",
      "{'a': 1, 'b': 2, 'c': 3, 'd': 4}\n"
     ]
    }
   ],
   "source": [
    "# есть ли ключ в словаре?\n",
    "dct = {'a': 1, 'b': 2, 'c': 3}\n",
    "dct['d'] = 4\n",
    "print('a' in dct) # проверим x\n",
    "print(dct)"
   ]
  },
  {
   "cell_type": "code",
   "execution_count": 40,
   "metadata": {},
   "outputs": [
    {
     "name": "stdout",
     "output_type": "stream",
     "text": [
      "2348591\n"
     ]
    }
   ],
   "source": [
    "# обращаемся к элементу\n",
    "# для этого указываем ключ элемента\n",
    "dct = {'a': 2348591, 'b': 284572, 'c': 4958553}\n",
    "print(dct['a'])"
   ]
  },
  {
   "cell_type": "code",
   "execution_count": 42,
   "metadata": {},
   "outputs": [
    {
     "name": "stdout",
     "output_type": "stream",
     "text": [
      "{'a': 1, 'c': 3, 'd': 4}\n"
     ]
    }
   ],
   "source": [
    "# удаляем\n",
    "dct = {'a': 1, 'b': 2, 'c': 3}\n",
    "dct['d'] = 4\n",
    "del dct['b']   # оператор\n",
    "print(dct)"
   ]
  },
  {
   "cell_type": "code",
   "execution_count": 44,
   "metadata": {},
   "outputs": [
    {
     "name": "stdout",
     "output_type": "stream",
     "text": [
      "boris 228334\n",
      "anna 23533\n",
      "vasya 342223\n",
      "{'boris': 228334, 'anna': 23533, 'vasya': 342223}\n"
     ]
    }
   ],
   "source": [
    "# печатаем все пары ключ-значение\n",
    "dct = {'boris': 228334, 'anna': 23533, 'vasya': 342223}\n",
    "for key in dct:\n",
    "    print(key, dct[key])\n",
    "print(dct)"
   ]
  },
  {
   "cell_type": "code",
   "execution_count": 45,
   "metadata": {},
   "outputs": [
    {
     "name": "stdout",
     "output_type": "stream",
     "text": [
      "anna 23533\n",
      "boris 228334\n",
      "vasya 342223\n",
      "{'boris': 228334, 'anna': 23533, 'vasya': 342223}\n"
     ]
    }
   ],
   "source": [
    "# печатаем все пары ключ-значение\n",
    "dct = {'boris': 228334, 'anna': 23533, 'vasya': 342223}\n",
    "for key in sorted(dct):\n",
    "    print(key, dct[key])\n",
    "print(dct)"
   ]
  },
  {
   "cell_type": "code",
   "execution_count": 46,
   "metadata": {},
   "outputs": [
    {
     "name": "stdout",
     "output_type": "stream",
     "text": [
      "{'boris': 228334, 'anna': 23533, 'vasya': 342223}\n",
      "{23533: 'anna', 228334: 'boris', 342223: 'vasya'}\n"
     ]
    }
   ],
   "source": [
    "# создаём перевёрнутую копию словаря\n",
    "dct = {'boris': 228334, 'anna': 23533, 'vasya': 342223}\n",
    "dct2 = {} # пустой словарь\n",
    "for key in sorted(dct):\n",
    "    dct2[dct[key]] = key\n",
    "print(dct)\n",
    "print(dct2)"
   ]
  },
  {
   "cell_type": "markdown",
   "metadata": {},
   "source": [
    "### У вас есть англо-литинский словарь. Надо составить латино-английский\n",
    "- 3\n",
    "- apple - malum, pomum, popula\n",
    "- fruit - baca, bacca, popum\n",
    "- punishment - malum, multa"
   ]
  },
  {
   "cell_type": "code",
   "execution_count": 71,
   "metadata": {},
   "outputs": [
    {
     "name": "stdout",
     "output_type": "stream",
     "text": [
      "3\n",
      "apple - malum, pomum, popula\n",
      "fruit - baca, bacca, popum\n",
      "punishment - malum, multa\n",
      "7\n",
      "baca - fruit\n",
      "bacca - fruit\n",
      "malum - apple, punishment\n",
      "multa - punishment\n",
      "pomum - apple\n",
      "popula - apple\n",
      "popum - fruit\n"
     ]
    }
   ],
   "source": [
    "def parse(s):\n",
    "    english = s[:s.find(' - ')] # используем срез для поиска английского слова\n",
    "    latins_list = s[s.find(' - ') + 3:]  # обрезаем после тире\n",
    "    latins = latins_list.split(',') # создаём список\n",
    "    for i in range(len(latins)):\n",
    "        latins[i] = latins[i].strip() # удаляем пробельные символы\n",
    "    return(english, latins)\n",
    "        \n",
    "        \n",
    "n = int(input()) # считываем количество записей\n",
    "latineng = {} # создаём пустой словарь\n",
    "for i in range(n): # для каждой записи считываем её как строку\n",
    "    s = input()\n",
    "    english, latins = parse(s) # разобрали её на кусочки\n",
    "    for latin in latins:  # для каждого латинского слова из списка\n",
    "        if latin not in latineng: # если латинское слово не содержится в словаре\n",
    "            latineng[latin] = [] # сопоставляем этому слову пустой список\n",
    "        latineng[latin].append(english) # добавили перевод латинского слова\n",
    "print(len(latineng)) # выводим длину словаря\n",
    "for latin in sorted(latineng): # прошлись по всему упорядоченному словарю\n",
    "    print(latin, end = ' - ') # печатаем переводы\n",
    "    print(', '.join(sorted((latineng[latin]))))\n",
    "# ключ - слово на латыни, значение - переводы на английский"
   ]
  },
  {
   "cell_type": "code",
   "execution_count": null,
   "metadata": {},
   "outputs": [],
   "source": []
  }
 ],
 "metadata": {
  "kernelspec": {
   "display_name": "Python 3",
   "language": "python",
   "name": "python3"
  },
  "language_info": {
   "codemirror_mode": {
    "name": "ipython",
    "version": 3
   },
   "file_extension": ".py",
   "mimetype": "text/x-python",
   "name": "python",
   "nbconvert_exporter": "python",
   "pygments_lexer": "ipython3",
   "version": "3.7.1"
  }
 },
 "nbformat": 4,
 "nbformat_minor": 2
}
