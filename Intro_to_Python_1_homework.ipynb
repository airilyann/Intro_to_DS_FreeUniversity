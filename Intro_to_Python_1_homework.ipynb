{
 "cells": [
  {
   "cell_type": "markdown",
   "metadata": {},
   "source": [
    "Привет! Поздравляю вас, вы дошли до первой домашки.\n",
    "Надеюсь, она будет для вас не последней на этом курсе.\n",
    "\n",
    "1 задача = 1 балл. Наполовину решённая задача = 0.5 баллов.\n",
    "Максимальная оценка - 10/10 (как ты)."
   ]
  },
  {
   "cell_type": "markdown",
   "metadata": {},
   "source": [
    "### Задание 1\n",
    "\n",
    "Произведение чисел 11111 (5 единиц) и 1111111 (7 единиц)"
   ]
  },
  {
   "cell_type": "code",
   "execution_count": null,
   "metadata": {},
   "outputs": [],
   "source": []
  },
  {
   "cell_type": "markdown",
   "metadata": {},
   "source": [
    "### Задание 2\n",
    "\n",
    "2014 в 14 степени"
   ]
  },
  {
   "cell_type": "code",
   "execution_count": null,
   "metadata": {},
   "outputs": [],
   "source": []
  },
  {
   "cell_type": "markdown",
   "metadata": {},
   "source": [
    "### Задание 3\n",
    "\n",
    "Приведите к целому типу число 2.99"
   ]
  },
  {
   "cell_type": "code",
   "execution_count": null,
   "metadata": {},
   "outputs": [],
   "source": []
  },
  {
   "cell_type": "markdown",
   "metadata": {},
   "source": [
    "### Задание 4\n",
    "\n",
    "Напишите программу, которая считывает длины двух катетов в прямоугольном треугольнике и выводит его площадь. Каждое число записано в отдельной строке."
   ]
  },
  {
   "cell_type": "code",
   "execution_count": null,
   "metadata": {},
   "outputs": [],
   "source": []
  },
  {
   "cell_type": "markdown",
   "metadata": {},
   "source": [
    "### Задание 5\n",
    "\n",
    "Мария обычно спит ночью XX часов и устраивает себе днем тихий час на YY минут. Определите, сколько всего минут Мария спит в сутки.\n",
    "\n",
    "Подсказки:\n",
    "- Программа принимает значения XX и YY из стандартного потока ввода (функция input)\n",
    "- Результат надо выводить в стандартный поток вывода (функция print)"
   ]
  },
  {
   "cell_type": "code",
   "execution_count": null,
   "metadata": {},
   "outputs": [],
   "source": []
  },
  {
   "cell_type": "markdown",
   "metadata": {},
   "source": [
    "### Задание 6\n",
    "Кирилл ложится спать ровно в полночь и недавно узнал, что оптимальное время для его сна составляет XX минут. Коля хочет поставить себе будильник так, чтобы он прозвенел ровно через XX минут после полуночи, однако для этого необходимо указать время сигнала в формате часы, минуты. Помогите Коле определить, на какое время завести будильник.\n",
    "\n",
    "**Sample Input 1:**\n",
    ">480\n",
    "\n",
    "**Sample Output 1:**\n",
    ">8\n",
    "\n",
    ">0"
   ]
  },
  {
   "cell_type": "code",
   "execution_count": null,
   "metadata": {},
   "outputs": [],
   "source": []
  },
  {
   "cell_type": "markdown",
   "metadata": {},
   "source": [
    "### Задание 7\n",
    "\n",
    "Расставьте скобки в выражении в соответствии с порядком вычисления выражения (приоритетом операций).\n",
    "\n",
    "`a and b or not a and not b`\n",
    "\n",
    "Всего потребуется 5 пар скобок (внешние скобки входят в их число)."
   ]
  },
  {
   "cell_type": "code",
   "execution_count": null,
   "metadata": {},
   "outputs": [],
   "source": []
  },
  {
   "cell_type": "markdown",
   "metadata": {},
   "source": [
    "### Задание 8\n",
    "Из передачи “Здоровье” Аня узнала, что рекомендуется спать хотя бы AA часов в сутки, но пересыпать тоже вредно и не стоит спать более BB часов. Сейчас Аня спит HH часов в сутки. Если режим сна Ани удовлетворяет рекомендациям передачи “Здоровье”, выведите “Это нормально”. Если Аня спит менее AA часов, выведите “Недосып”, если же более BB часов, то выведите “Пересып”.\n",
    "\n",
    "Получаемое число AA всегда меньше либо равно BB.\n",
    "\n",
    "На вход программе в три строки подаются переменные в следующем порядке: AA, BB, HH.\n",
    "\n",
    "**Sample Input 1:**\n",
    "\n",
    ">6\n",
    "\n",
    "> 10\n",
    "\n",
    "> 8\n",
    "\n",
    "**Sample Output 1:**\n",
    "\n",
    "> Это нормально"
   ]
  },
  {
   "cell_type": "code",
   "execution_count": null,
   "metadata": {},
   "outputs": [],
   "source": []
  },
  {
   "cell_type": "markdown",
   "metadata": {},
   "source": [
    "### Задание 9\n",
    "Напишите программу, принимающую на вход целое число, которая выводит True, если переданное значение попадает в интервал \n",
    "`(−15,12]∪(14,17)∪[19,+∞)`\n",
    "и False в противном случае (регистр символов имеет значение).\n",
    "\n",
    "На всякий:\n",
    "[Полуинтервал](https://ru.wikipedia.org/wiki/%D0%9F%D0%BE%D0%BB%D1%83%D0%B8%D0%BD%D1%82%D0%B5%D1%80%D0%B2%D0%B0%D0%BB),\n",
    "\t[Промежуток](https://ru.wikipedia.org/wiki/%D0%9F%D1%80%D0%BE%D0%BC%D0%B5%D0%B6%D1%83%D1%82%D0%BE%D0%BA_(%D0%BC%D0%B0%D1%82%D0%B5%D0%BC%D0%B0%D1%82%D0%B8%D0%BA%D0%B0)#.D0.A2.D0.B5.D1.80.D0.BC.D0.B8.D0.BD.D0.BE.D0.BB.D0.BE.D0.B3.D0.B8.D1.8F)"
   ]
  },
  {
   "cell_type": "code",
   "execution_count": null,
   "metadata": {},
   "outputs": [],
   "source": []
  },
  {
   "cell_type": "markdown",
   "metadata": {},
   "source": [
    "### Задание 10\n",
    "Сколько итераций цикла будет выполнено в этом фрагменте программы? Почему?\n",
    "\n",
    "`i = 0\n",
    "while i <= 10:\n",
    "    i = i + 1\n",
    "    if i > 7:\n",
    "        i = i + 2`"
   ]
  },
  {
   "cell_type": "code",
   "execution_count": null,
   "metadata": {},
   "outputs": [],
   "source": []
  },
  {
   "cell_type": "markdown",
   "metadata": {},
   "source": [
    "Не забудьте отзывы о паре и о домашке сюда: https://forms.gle/JAu13rmSCJpce2PK6\n",
    "\n",
    "Баллов, правда, за это не будет, но сможете высказать мне о наболевшем"
   ]
  }
 ],
 "metadata": {
  "kernelspec": {
   "display_name": "Python 3",
   "language": "python",
   "name": "python3"
  },
  "language_info": {
   "codemirror_mode": {
    "name": "ipython",
    "version": 3
   },
   "file_extension": ".py",
   "mimetype": "text/x-python",
   "name": "python",
   "nbconvert_exporter": "python",
   "pygments_lexer": "ipython3",
   "version": "3.7.1"
  }
 },
 "nbformat": 4,
 "nbformat_minor": 2
}
