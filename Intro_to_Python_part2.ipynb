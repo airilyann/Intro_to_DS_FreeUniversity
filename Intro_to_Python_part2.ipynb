{
 "cells": [
  {
   "cell_type": "markdown",
   "metadata": {},
   "source": [
    "# Вещественные числа\n",
    "\n",
    "float - плавающая точка \n",
    "\n",
    "Есть проблемы с точностью представления чисел."
   ]
  },
  {
   "cell_type": "code",
   "execution_count": 38,
   "metadata": {},
   "outputs": [
    {
     "name": "stdout",
     "output_type": "stream",
     "text": [
      "6.3\n",
      "2.2\n",
      "8.5\n",
      "4.1\n",
      "2.8636363636363633\n",
      "2.0\n",
      "1.8999999999999995\n"
     ]
    }
   ],
   "source": [
    "a = float(input())\n",
    "b = float(input())\n",
    "print(a + b)\n",
    "print(a - b)\n",
    "print(a / b)\n",
    "print(a // b)\n",
    "print(a % b)"
   ]
  },
  {
   "cell_type": "code",
   "execution_count": 39,
   "metadata": {},
   "outputs": [
    {
     "name": "stdout",
     "output_type": "stream",
     "text": [
      "False\n"
     ]
    }
   ],
   "source": [
    "if 0.1 + 0.2 == 0.3:\n",
    "    print('True')\n",
    "else:\n",
    "    print('False')"
   ]
  },
  {
   "cell_type": "code",
   "execution_count": 40,
   "metadata": {},
   "outputs": [
    {
     "data": {
      "text/plain": [
       "0.30000000000000004"
      ]
     },
     "execution_count": 40,
     "metadata": {},
     "output_type": "execute_result"
    }
   ],
   "source": [
    "0.1 + 0.2"
   ]
  },
  {
   "cell_type": "markdown",
   "metadata": {},
   "source": [
    "Поэтому нужно быть аккуратным при сравнении вещественных чисел.\n",
    "\n",
    "Чтобы сравнить два вещественных значения, полученных вычислением, можно считать разность по модулю, при этом сравнивать с каким-то небольшим числом с заданной точностью.\n",
    "В реальности около 15 десятичных знаков будут храниться достаточно точно, а потом может начаться магия"
   ]
  },
  {
   "cell_type": "code",
   "execution_count": 41,
   "metadata": {},
   "outputs": [
    {
     "name": "stdout",
     "output_type": "stream",
     "text": [
      "True\n"
     ]
    }
   ],
   "source": [
    "if abs(0.1 + 0.2 - 0.3) < 0.000001:\n",
    "    print('True')\n",
    "else:\n",
    "    print('False')"
   ]
  },
  {
   "cell_type": "markdown",
   "metadata": {},
   "source": [
    "У вещественных чисел есть ограничения на то, какие числа они могут хранить.\n",
    "\n",
    "У нас хранится целое число и позиция точки в этом числе. Или, если умничать - это степень 10, на которое нужно умножить это число (может быть положительной и отрицательной).\n",
    "\n",
    "**Мантисса** - целое число\n",
    "\n",
    "**Экспонента** - степень, на которую нужно умножить"
   ]
  },
  {
   "cell_type": "code",
   "execution_count": 46,
   "metadata": {},
   "outputs": [
    {
     "name": "stdout",
     "output_type": "stream",
     "text": [
      "1.5179100891722457e+79\n"
     ]
    }
   ],
   "source": [
    "print(1.2 ** 1000)"
   ]
  },
  {
   "cell_type": "markdown",
   "metadata": {},
   "source": [
    "Это называется инженерной или научной записью числа.\n",
    "\n",
    "e+79  - означает, что мы наше число должны умножить на 10 в 79 степени."
   ]
  },
  {
   "cell_type": "markdown",
   "metadata": {},
   "source": [
    "## Округление"
   ]
  },
  {
   "cell_type": "code",
   "execution_count": 50,
   "metadata": {},
   "outputs": [
    {
     "name": "stdout",
     "output_type": "stream",
     "text": [
      "-1.7\n",
      "-1\n"
     ]
    }
   ],
   "source": [
    "x = float(input())\n",
    "print(int(x))"
   ]
  },
  {
   "cell_type": "markdown",
   "metadata": {},
   "source": [
    "Функция int отбрасывает вещественную часть - всё, что после точки. Это не округление по математическим правилам.\n",
    "\n",
    "Округляем в сторону нуля: для положительных - округление вниз, для отрицательных - вверх."
   ]
  },
  {
   "cell_type": "code",
   "execution_count": 59,
   "metadata": {},
   "outputs": [
    {
     "name": "stdout",
     "output_type": "stream",
     "text": [
      "2.5\n",
      "2\n"
     ]
    }
   ],
   "source": [
    "x = float(input())\n",
    "print(round(x))"
   ]
  },
  {
   "cell_type": "markdown",
   "metadata": {},
   "source": [
    "При округлении 0.5 происходит непривычная вещь для простого человека из СНГ. Число округляется в сторону чётного числа\n",
    "\n",
    "Другие способы округления назодятся в библиотеке **math**.\n",
    "\n",
    "**floor** - Округление вниз. Отличается от int тем, что отрицательные числа округляет вниз, а не в сторону 0.\n",
    "\n",
    "**ceil** - Округление вверх"
   ]
  },
  {
   "cell_type": "code",
   "execution_count": 68,
   "metadata": {},
   "outputs": [
    {
     "name": "stdout",
     "output_type": "stream",
     "text": [
      "1.3\n",
      "1\n"
     ]
    }
   ],
   "source": [
    "import math\n",
    "\n",
    "x = float(input())\n",
    "print(math.floor(x)) \n",
    "# print(math.floor)"
   ]
  },
  {
   "cell_type": "code",
   "execution_count": 69,
   "metadata": {},
   "outputs": [
    {
     "name": "stdout",
     "output_type": "stream",
     "text": [
      "1.2\n",
      "2\n"
     ]
    }
   ],
   "source": [
    "from math import ceil\n",
    "\n",
    "x = float(input())\n",
    "print(ceil(x)) "
   ]
  },
  {
   "cell_type": "code",
   "execution_count": 16,
   "metadata": {},
   "outputs": [],
   "source": [
    "# если хотим импортировать только одну функцию из библиотеки \n",
    "from math import ceil"
   ]
  },
  {
   "cell_type": "code",
   "execution_count": 73,
   "metadata": {},
   "outputs": [
    {
     "data": {
      "text/plain": [
       "['__doc__',\n",
       " '__file__',\n",
       " '__loader__',\n",
       " '__name__',\n",
       " '__package__',\n",
       " '__spec__',\n",
       " 'acos',\n",
       " 'acosh',\n",
       " 'asin',\n",
       " 'asinh',\n",
       " 'atan',\n",
       " 'atan2',\n",
       " 'atanh',\n",
       " 'ceil',\n",
       " 'copysign',\n",
       " 'cos',\n",
       " 'cosh',\n",
       " 'degrees',\n",
       " 'e',\n",
       " 'erf',\n",
       " 'erfc',\n",
       " 'exp',\n",
       " 'expm1',\n",
       " 'fabs',\n",
       " 'factorial',\n",
       " 'floor',\n",
       " 'fmod',\n",
       " 'frexp',\n",
       " 'fsum',\n",
       " 'gamma',\n",
       " 'gcd',\n",
       " 'hypot',\n",
       " 'inf',\n",
       " 'isclose',\n",
       " 'isfinite',\n",
       " 'isinf',\n",
       " 'isnan',\n",
       " 'ldexp',\n",
       " 'lgamma',\n",
       " 'log',\n",
       " 'log10',\n",
       " 'log1p',\n",
       " 'log2',\n",
       " 'modf',\n",
       " 'nan',\n",
       " 'pi',\n",
       " 'pow',\n",
       " 'radians',\n",
       " 'remainder',\n",
       " 'sin',\n",
       " 'sinh',\n",
       " 'sqrt',\n",
       " 'tan',\n",
       " 'tanh',\n",
       " 'tau',\n",
       " 'trunc']"
      ]
     },
     "execution_count": 73,
     "metadata": {},
     "output_type": "execute_result"
    }
   ],
   "source": [
    "# посмотреть все функции в библиотеке \n",
    "import math\n",
    "dir(math)\n",
    "# help(math)\n",
    "# либо через tab"
   ]
  },
  {
   "cell_type": "code",
   "execution_count": 70,
   "metadata": {},
   "outputs": [
    {
     "name": "stdout",
     "output_type": "stream",
     "text": [
      "1234.5\n"
     ]
    }
   ],
   "source": [
    "print(1.2345e3)"
   ]
  },
  {
   "cell_type": "code",
   "execution_count": 71,
   "metadata": {},
   "outputs": [
    {
     "name": "stdout",
     "output_type": "stream",
     "text": [
      "0.0012345\n"
     ]
    }
   ],
   "source": [
    "print(1.2345e-3)"
   ]
  },
  {
   "cell_type": "markdown",
   "metadata": {},
   "source": [
    "## Строки"
   ]
  },
  {
   "cell_type": "code",
   "execution_count": 75,
   "metadata": {},
   "outputs": [
    {
     "name": "stdout",
     "output_type": "stream",
     "text": [
      "kto smotrit v telefon tot sosiska\n",
      "o\n"
     ]
    }
   ],
   "source": [
    "# можно вывести конкретный символ в строке\n",
    "s = input()\n",
    "print(s[2])  # индекс, номер символа, к которму мы обращаемся"
   ]
  },
  {
   "cell_type": "code",
   "execution_count": 77,
   "metadata": {},
   "outputs": [
    {
     "name": "stdout",
     "output_type": "stream",
     "text": [
      "ooppa\n",
      "5\n"
     ]
    }
   ],
   "source": [
    "# можно посчитать длину строки\n",
    "s = input()\n",
    "print(len(s))"
   ]
  },
  {
   "cell_type": "code",
   "execution_count": 78,
   "metadata": {},
   "outputs": [
    {
     "name": "stdout",
     "output_type": "stream",
     "text": [
      "vasiliy\n",
      "yilisav\n"
     ]
    }
   ],
   "source": [
    "# Давайте перевернём строку\n",
    "s = input()\n",
    "i = len(s) - 1 # номер последней буквы в строке\n",
    "# если длина строки = 4, то номер последней цифры = 3\n",
    "while i >= 0:\n",
    "    print(s[i], end = '')\n",
    "    i -= 1\n",
    "print()"
   ]
  },
  {
   "cell_type": "code",
   "execution_count": 79,
   "metadata": {},
   "outputs": [
    {
     "name": "stdout",
     "output_type": "stream",
     "text": [
      "ababababababa\n",
      "aaaaaaa\n"
     ]
    }
   ],
   "source": [
    "# Выведем каждую вторую букву\n",
    "s = input()\n",
    "i = 0\n",
    "# если длина строки = 4, то номер последней цифры = 3\n",
    "while i < len(s):\n",
    "    print(s[i], end = '')\n",
    "    i += 2\n",
    "print()"
   ]
  },
  {
   "cell_type": "code",
   "execution_count": 80,
   "metadata": {},
   "outputs": [
    {
     "name": "stdout",
     "output_type": "stream",
     "text": [
      "шарик\n",
      "ша\n"
     ]
    }
   ],
   "source": [
    "# срез - slice\n",
    "s = input()\n",
    "print(s[0:2]) "
   ]
  },
  {
   "cell_type": "code",
   "execution_count": 82,
   "metadata": {},
   "outputs": [
    {
     "name": "stdout",
     "output_type": "stream",
     "text": [
      "медиазона\n",
      "ме\n"
     ]
    }
   ],
   "source": [
    "# срез - slice\n",
    "s = input()\n",
    "print(s[:2]) "
   ]
  },
  {
   "cell_type": "code",
   "execution_count": 83,
   "metadata": {},
   "outputs": [
    {
     "name": "stdout",
     "output_type": "stream",
     "text": [
      "медиазона\n",
      "медиазон\n"
     ]
    }
   ],
   "source": [
    "# вся строка до -1 символа\n",
    "s = input()\n",
    "print(s[:-1])"
   ]
  },
  {
   "cell_type": "code",
   "execution_count": 84,
   "metadata": {},
   "outputs": [
    {
     "name": "stdout",
     "output_type": "stream",
     "text": [
      "медиазона\n",
      "едиазона\n"
     ]
    }
   ],
   "source": [
    "# вся строка без первого символа\n",
    "s = input()\n",
    "print(s[1:]) "
   ]
  },
  {
   "cell_type": "code",
   "execution_count": 85,
   "metadata": {},
   "outputs": [
    {
     "name": "stdout",
     "output_type": "stream",
     "text": [
      "медиазона\n",
      "мдаоа\n"
     ]
    }
   ],
   "source": [
    "# вся строка, каждый второй знак\n",
    "s = input()\n",
    "print(s[0:len(s):2])  # откуда, до куда, с каким шагом"
   ]
  },
  {
   "cell_type": "code",
   "execution_count": 86,
   "metadata": {
    "scrolled": false
   },
   "outputs": [
    {
     "name": "stdout",
     "output_type": "stream",
     "text": [
      "инновационному\n",
      "инвцонм\n"
     ]
    }
   ],
   "source": [
    "# сократим предыдущую запись\n",
    "s = input()\n",
    "print(s[::2])"
   ]
  },
  {
   "cell_type": "code",
   "execution_count": 87,
   "metadata": {},
   "outputs": [
    {
     "name": "stdout",
     "output_type": "stream",
     "text": [
      "инновационному\n",
      "умонноицавонни\n"
     ]
    }
   ],
   "source": [
    "s = input()\n",
    "print(s[::-1])"
   ]
  },
  {
   "cell_type": "markdown",
   "metadata": {},
   "source": [
    "## Поиск подстрок в строке"
   ]
  },
  {
   "cell_type": "code",
   "execution_count": 92,
   "metadata": {},
   "outputs": [
    {
     "name": "stdout",
     "output_type": "stream",
     "text": [
      "ёжик\n",
      "о\n",
      "False\n"
     ]
    }
   ],
   "source": [
    "# проверим наличие подстроки в строке\n",
    "string = input()\n",
    "substring = input()\n",
    "print(substring in string)"
   ]
  },
  {
   "cell_type": "markdown",
   "metadata": {},
   "source": [
    "В Python метод – это функция, доступная для данного объекта из-за типа объекта.\n",
    "\n",
    "Для вызова метода формат является object_name.method_name() , и любые аргументы метода перечислены в круглых скобках. "
   ]
  },
  {
   "cell_type": "code",
   "execution_count": 96,
   "metadata": {},
   "outputs": [
    {
     "name": "stdout",
     "output_type": "stream",
     "text": [
      "цикл, закончись\n",
      "щ\n",
      "-1\n"
     ]
    }
   ],
   "source": [
    "# давайте посмотрим, какие есть методы\n",
    "s = input()\n",
    "subs = input()\n",
    "pos = s.find(subs) # возвращает первую позицию, в которой нашли подстроку\n",
    "print(pos)"
   ]
  },
  {
   "cell_type": "markdown",
   "metadata": {},
   "source": [
    "Если подстрока не находится - что выведется?"
   ]
  },
  {
   "cell_type": "code",
   "execution_count": 94,
   "metadata": {},
   "outputs": [
    {
     "name": "stdout",
     "output_type": "stream",
     "text": [
      "Медуза признана в России иностранным агентом\n",
      "России\n",
      "России иностранным агентом\n"
     ]
    }
   ],
   "source": [
    "# давайте выведем весь текст после нужного слова\n",
    "s = input()\n",
    "subs = input()\n",
    "pos = s.find(subs) \n",
    "print(s[pos:])"
   ]
  },
  {
   "cell_type": "code",
   "execution_count": 95,
   "metadata": {},
   "outputs": [
    {
     "name": "stdout",
     "output_type": "stream",
     "text": [
      "Есть несколько отличий, а именно: «шоколад» Игошин переименовал в «мясо», «кондитерский» заменил на «мясоперерабатывающий», «белый шоколад» стал «российской говядиной», «обычный, молочный шоколад» – «импортной говядиной», а «черный шоколад» – «говядиной на кости любого происхождения».\n",
      "а\n",
      "14\n"
     ]
    }
   ],
   "source": [
    "# посчитаем, как часто подстрока упоминается в строке\n",
    "s = input()\n",
    "subs = input()\n",
    "cnt = s.count(subs) \n",
    "print(cnt)"
   ]
  },
  {
   "cell_type": "markdown",
   "metadata": {},
   "source": [
    "## Поиск и замена подстрок"
   ]
  },
  {
   "cell_type": "code",
   "execution_count": 97,
   "metadata": {},
   "outputs": [
    {
     "name": "stdout",
     "output_type": "stream",
     "text": [
      "Анализ современного состояния рынка мяса и готовых мясных изделий позволил выделить следующие особенности конкурентоспособности российских предприятий с учетом структуры спроса и предложения на мировых рынках и в стране. Так, в 2010 г. спрос на мясо и мясные продукты будет примерно на 12% выше, чем в середине 90-х годов, при этом в развитых странах он возрастет на 14%, а в развивающихся странах - на 25%. В странах же СНГ (бывший СССР) потребление мяса на душу населения сократится за этот период (при самом оптимистическом прогнозе) более чем в 2 раза и будет единственным исключением из общей картины увеличения потребления мяса в странах\n",
      "на\n",
      "1\n",
      "191\n",
      "242\n",
      "283\n",
      "347\n",
      "364\n",
      "394\n",
      "400\n",
      "414\n",
      "456\n",
      "464\n",
      "640\n"
     ]
    }
   ],
   "source": [
    "# ищем все позиции подстроки в строке\n",
    "s = input()\n",
    "subs = input()\n",
    "pos = s.find(subs) \n",
    "while pos != -1: # если значение находится\n",
    "    print(pos)   # выводим позицию подстроки\n",
    "    # складываем в переменную\n",
    "    # находим первую подстроку, должны искать после окончания её вхождения\n",
    "    pos = s.find(subs, pos + len(subs))"
   ]
  },
  {
   "cell_type": "code",
   "execution_count": 98,
   "metadata": {},
   "outputs": [
    {
     "name": "stdout",
     "output_type": "stream",
     "text": [
      "Так, в 2010 г. спрос на мясо и сопутствующие продукты будет примерно на 12% выше, чем в середине 90-х годов, при этом в развитых странах он возрастет на 14%, а в развивающихся странах - на 25%.\n",
      "мясо\n",
      "Так, в 2010 г. спрос на шоколад и сопутствующие продукты будет примерно на 12% выше, чем в середине 90-х годов, при этом в развитых странах он возрастет на 14%, а в развивающихся странах - на 25%.\n"
     ]
    }
   ],
   "source": [
    "# давайте на коленке заменим одну подстроку на другую\n",
    "s = input()\n",
    "subs = input()\n",
    "pos = s.find(subs) \n",
    "start = s[:pos]     # отрезаем всё от начала до позиции, где нашли подстроку\n",
    "finish = s[pos + len(subs):] # отрезаем всё после окончания подстроки\n",
    "new_s = start + 'шоколад' + finish\n",
    "print(new_s)"
   ]
  },
  {
   "cell_type": "code",
   "execution_count": 100,
   "metadata": {},
   "outputs": [
    {
     "name": "stdout",
     "output_type": "stream",
     "text": [
      "Так, в 2010 г. спрос на мясо и сопутствующие продукты будет примерно на 12% выше, чем в середине 90-х годов, при этом в развитых странах он возрастет на 14%, а в развивающихся странах - на 25%.\n",
      "Так, в 2010 г. спрос на шоколад и сопутствующие продукты будет примерно на 12% выше, чем в середине 90-х годов, при этом в развитых странах он возрастет на 14%, а в развивающихся странах - на 25%.\n"
     ]
    }
   ],
   "source": [
    "# а теперь сделаем при помощи специального метода\n",
    "s = input()\n",
    "new_s = s.replace('мясо', 'шоколад')\n",
    "print(new_s)"
   ]
  },
  {
   "cell_type": "code",
   "execution_count": 101,
   "metadata": {},
   "outputs": [
    {
     "name": "stdout",
     "output_type": "stream",
     "text": [
      "aaaaa\n",
      "bbbaa\n"
     ]
    }
   ],
   "source": [
    "s = input()\n",
    "new_s = s.replace('a', 'b', 3)\n",
    "print(new_s)"
   ]
  },
  {
   "cell_type": "markdown",
   "metadata": {},
   "source": [
    "## Ещё полезные методы строк"
   ]
  },
  {
   "cell_type": "code",
   "execution_count": 103,
   "metadata": {},
   "outputs": [
    {
     "name": "stdout",
     "output_type": "stream",
     "text": [
      "ffhdgso 1234 FGSAE\n",
      "Ffhdgso 1234 fgsae\n"
     ]
    }
   ],
   "source": [
    "s = input()\n",
    "new_s = s.capitalize()\n",
    "print(new_s)"
   ]
  },
  {
   "cell_type": "code",
   "execution_count": 105,
   "metadata": {},
   "outputs": [
    {
     "name": "stdout",
     "output_type": "stream",
     "text": [
      "Павловна\n",
      "True\n"
     ]
    }
   ],
   "source": [
    "s = input()\n",
    "flag = s.endswith('вна')\n",
    "print(flag)"
   ]
  },
  {
   "cell_type": "code",
   "execution_count": 106,
   "metadata": {},
   "outputs": [
    {
     "name": "stdout",
     "output_type": "stream",
     "text": [
      "ДАННОЕ СООБЩЕНИЕ (МАТЕРИАЛ) СОЗДАНО И (ИЛИ) РАСПРОСТРАНЕНО ИНОСТРАННЫМ СРЕДСТВОМ МАССОВОЙ ИНФОРМАЦИИ, ВЫПОЛНЯЮЩИМ ФУНКЦИИ ИНОСТРАННОГО АГЕНТА, И (ИЛИ) РОССИЙСКИМ ЮРИДИЧЕСКИМ ЛИЦОМ, ВЫПОЛНЯЮЩИМ ФУНКЦИИ ИНОСТРАННОГО АГЕНТА.\n",
      "данное сообщение (материал) создано и (или) распространено иностранным средством массовой информации, выполняющим функции иностранного агента, и (или) российским юридическим лицом, выполняющим функции иностранного агента.\n"
     ]
    }
   ],
   "source": [
    "s = input()\n",
    "new_s = s.lower()\n",
    "print(new_s)"
   ]
  },
  {
   "cell_type": "code",
   "execution_count": 107,
   "metadata": {},
   "outputs": [
    {
     "name": "stdout",
     "output_type": "stream",
     "text": [
      "вы все красавчики\n",
      "ВЫ ВСЕ КРАСАВЧИКИ\n"
     ]
    }
   ],
   "source": [
    "s = input()\n",
    "new_s = s.upper()\n",
    "print(new_s)"
   ]
  },
  {
   "cell_type": "code",
   "execution_count": 108,
   "metadata": {},
   "outputs": [
    {
     "name": "stdout",
     "output_type": "stream",
     "text": [
      "    этот    текст мы нашли на   помойке    \n",
      "этот    текст мы нашли на   помойке\n"
     ]
    }
   ],
   "source": [
    "# обрезаем лишние пробельные символы с краёв строки\n",
    "# lstrip - обрезаем только слева\n",
    "# rstrip - обрезаем только справа\n",
    "s = input()\n",
    "new_s = s.strip()\n",
    "print(new_s)"
   ]
  },
  {
   "cell_type": "code",
   "execution_count": null,
   "metadata": {},
   "outputs": [],
   "source": [
    "s = input()\n",
    "new_s = s.isdigit()\n",
    "print(new_s)"
   ]
  },
  {
   "cell_type": "code",
   "execution_count": null,
   "metadata": {},
   "outputs": [],
   "source": []
  }
 ],
 "metadata": {
  "kernelspec": {
   "display_name": "Python 3",
   "language": "python",
   "name": "python3"
  },
  "language_info": {
   "codemirror_mode": {
    "name": "ipython",
    "version": 3
   },
   "file_extension": ".py",
   "mimetype": "text/x-python",
   "name": "python",
   "nbconvert_exporter": "python",
   "pygments_lexer": "ipython3",
   "version": "3.7.1"
  }
 },
 "nbformat": 4,
 "nbformat_minor": 2
}
