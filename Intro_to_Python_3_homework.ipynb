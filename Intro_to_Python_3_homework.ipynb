{
 "cells": [
  {
   "cell_type": "markdown",
   "metadata": {},
   "source": [
    "## Кортеж, Функция range и for, Списки и их чтение\n",
    "\n",
    "Для этой домашки я потырила задачки в питонтьюторе.\n",
    "Вообще у них очень хорошее описание функций-методов, очень советую их пролистывать тоже.\n",
    "\n",
    "[Списки](http://pythontutor.ru/lessons/lists/#section_3)\n",
    "\n",
    "[Цикл for](http://pythontutor.ru/lessons/for_loop/)"
   ]
  },
  {
   "cell_type": "markdown",
   "metadata": {},
   "source": [
    "### Задание 1\n",
    "\n",
    "Сколько элементов будет содержать список students после следующих операций?\n",
    "\n",
    "Введите в поле ответа одно число.\n",
    "Подумайте, почему так происходит.\n",
    "\n",
    "`students = ['Ivan', 'Masha', 'Sasha']\n",
    "students += ['Olga']\n",
    "students += 'Olga'`"
   ]
  },
  {
   "cell_type": "code",
   "execution_count": null,
   "metadata": {},
   "outputs": [],
   "source": []
  },
  {
   "cell_type": "markdown",
   "metadata": {},
   "source": [
    "### Задание 2\n",
    "\n",
    "Имеется программа, код которой указан ниже.\n",
    "Укажите, какие значения будут содержать списки в помеченных участках:\n",
    "\n",
    "`a = [1, 2, 3]\n",
    "b = a`\n",
    "значения списка b?\n",
    "\n",
    "`a[1] = 10`\n",
    "значения списка b?\n",
    "\n",
    "`b[0] = 20`\n",
    "значения списка a?\n",
    "\n",
    "`a = [5, 6]`\n",
    "значения списка b?\n",
    "\n",
    "\n",
    "Запишите значения списков в одну строку, разделяя списки точкой с запятой, а элементы внутри списка — пробелом, например:\n",
    "1 1 1; 2 2 2; 3 3 3; 4 4 4"
   ]
  },
  {
   "cell_type": "code",
   "execution_count": null,
   "metadata": {},
   "outputs": [],
   "source": []
  },
  {
   "cell_type": "markdown",
   "metadata": {},
   "source": [
    "### Задание 3\n",
    "\n",
    "Напишите программу, на вход которой подается одна строка с целыми числами. Программа должна вывести сумму этих чисел.\n",
    "\n",
    "Используйте метод split строки. "
   ]
  },
  {
   "cell_type": "code",
   "execution_count": null,
   "metadata": {},
   "outputs": [],
   "source": []
  },
  {
   "cell_type": "markdown",
   "metadata": {},
   "source": [
    "### Задание 4\n",
    "\n",
    "Выведите все четные элементы списка. При этом используйте цикл for, перебирающий элементы списка, а не их индексы!"
   ]
  },
  {
   "cell_type": "code",
   "execution_count": null,
   "metadata": {},
   "outputs": [],
   "source": []
  },
  {
   "cell_type": "markdown",
   "metadata": {},
   "source": [
    "### Задание 5\n",
    "\n",
    "Даны два целых числа A и В. Выведите все числа от A до B включительно, в порядке возрастания, если A < B, или в порядке убывания в противном случае."
   ]
  },
  {
   "cell_type": "code",
   "execution_count": null,
   "metadata": {},
   "outputs": [],
   "source": []
  },
  {
   "cell_type": "markdown",
   "metadata": {},
   "source": [
    "### Задание 6\n",
    "\n",
    "Дано 10 целых чисел. Вычислите их сумму. Напишите программу, использующую наименьшее число переменных.\n",
    "\n",
    "(тут тоже используем for)"
   ]
  },
  {
   "cell_type": "code",
   "execution_count": null,
   "metadata": {},
   "outputs": [],
   "source": []
  },
  {
   "cell_type": "markdown",
   "metadata": {},
   "source": [
    "### Задание 7\n",
    "\n",
    "Выведите все элементы списка с четными индексами (то есть A[0], A[2], A[4], ...). Постарайтесь не использовать if, а придумать правильные параметры для range.\n",
    "\n",
    "Для примера:\n",
    "\n",
    "`Ввод\t\n",
    "1 2 3 4 5`\n",
    "\n",
    "`Результат    \n",
    "1 3 5 `\n"
   ]
  },
  {
   "cell_type": "code",
   "execution_count": null,
   "metadata": {},
   "outputs": [],
   "source": []
  }
 ],
 "metadata": {
  "kernelspec": {
   "display_name": "Python 3",
   "language": "python",
   "name": "python3"
  },
  "language_info": {
   "codemirror_mode": {
    "name": "ipython",
    "version": 3
   },
   "file_extension": ".py",
   "mimetype": "text/x-python",
   "name": "python",
   "nbconvert_exporter": "python",
   "pygments_lexer": "ipython3",
   "version": "3.7.1"
  }
 },
 "nbformat": 4,
 "nbformat_minor": 2
}
