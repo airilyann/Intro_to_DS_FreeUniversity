{
 "cells": [
  {
   "cell_type": "markdown",
   "metadata": {},
   "source": [
    "## Кортеж \n",
    "Мы научились работать со строками и разными числами.\n",
    "Иногда нам нужно сохранить числа и строки в перемешку.\n",
    "\n",
    "Для этого существует тип данных - **кортеж (typle)**.\n",
    "Используются для описания сложной струкруты."
   ]
  },
  {
   "cell_type": "code",
   "execution_count": 1,
   "metadata": {},
   "outputs": [
    {
     "name": "stdout",
     "output_type": "stream",
     "text": [
      "(1, 2, 3)\n"
     ]
    }
   ],
   "source": [
    "testTyple = (1, 2, 3)\n",
    "print(testTyple)"
   ]
  },
  {
   "cell_type": "code",
   "execution_count": 4,
   "metadata": {},
   "outputs": [
    {
     "name": "stdout",
     "output_type": "stream",
     "text": [
      "(1, 2, 3, 4, 5, 6)\n"
     ]
    }
   ],
   "source": [
    "a = (1, 2, 3)\n",
    "b = (4, 5, 6)\n",
    "print(a + b)  # получаем отдельный кортеж"
   ]
  },
  {
   "cell_type": "code",
   "execution_count": 10,
   "metadata": {},
   "outputs": [
    {
     "name": "stdout",
     "output_type": "stream",
     "text": [
      "2\n"
     ]
    }
   ],
   "source": [
    "# можем обратиться к отдельному символу\n",
    "a = (1, 2, 3)\n",
    "b = (4, 5, 6)\n",
    "print(a[1])"
   ]
  },
  {
   "cell_type": "code",
   "execution_count": 9,
   "metadata": {},
   "outputs": [
    {
     "name": "stdout",
     "output_type": "stream",
     "text": [
      "(4,)\n"
     ]
    }
   ],
   "source": [
    "# синглтон - состоит из одного элемента\n",
    "b = (4,)\n",
    "print(b)"
   ]
  },
  {
   "cell_type": "code",
   "execution_count": 12,
   "metadata": {},
   "outputs": [
    {
     "name": "stdout",
     "output_type": "stream",
     "text": [
      "('Ivan', 'Katamaranov', 36, 3.5)\n"
     ]
    }
   ],
   "source": [
    "# кортеж может состоять из разнородных элементов\n",
    "a = ('Ivan', 'Katamaranov', 36, 3.5)\n",
    "print(a)"
   ]
  },
  {
   "cell_type": "code",
   "execution_count": 14,
   "metadata": {},
   "outputs": [
    {
     "name": "stdout",
     "output_type": "stream",
     "text": [
      "2\n"
     ]
    }
   ],
   "source": [
    "# можем сложить кортеж в кортеж\n",
    "a = ((1, 2), 36, 3.5)\n",
    "print(a[0][1])"
   ]
  },
  {
   "cell_type": "code",
   "execution_count": 15,
   "metadata": {},
   "outputs": [
    {
     "name": "stdout",
     "output_type": "stream",
     "text": [
      "3\n"
     ]
    }
   ],
   "source": [
    "a = ((1, 2), 36, 3.5)\n",
    "print(len(a))"
   ]
  },
  {
   "cell_type": "code",
   "execution_count": 18,
   "metadata": {},
   "outputs": [
    {
     "name": "stdout",
     "output_type": "stream",
     "text": [
      "(1, 2, 3)\n"
     ]
    }
   ],
   "source": [
    "# можем сложить переменные в кортеж\n",
    "a = 1\n",
    "b = 2\n",
    "c = 3 \n",
    "myTyple = (a, b, c) # упаковка кортежа\n",
    "print(myTyple)"
   ]
  },
  {
   "cell_type": "code",
   "execution_count": 22,
   "metadata": {},
   "outputs": [
    {
     "name": "stdout",
     "output_type": "stream",
     "text": [
      "1 2 3\n"
     ]
    }
   ],
   "source": [
    "# если можем запаковать - то видимо можем и распаковать\n",
    "a = 1\n",
    "b = 2\n",
    "c = 3 \n",
    "myTyple = (a, b, c)\n",
    "d, e, f = myTyple # распаковка кортежа\n",
    "print(d, e, f)"
   ]
  },
  {
   "cell_type": "code",
   "execution_count": 24,
   "metadata": {},
   "outputs": [
    {
     "name": "stdout",
     "output_type": "stream",
     "text": [
      "1 2 3\n"
     ]
    }
   ],
   "source": [
    "a = 1\n",
    "b = 2\n",
    "c = 3 \n",
    "myTyple = (a, b, c)\n",
    "(d, e, f) = myTyple # удалить или добавить переменную\n",
    "print(d, e, f)"
   ]
  },
  {
   "cell_type": "code",
   "execution_count": 27,
   "metadata": {},
   "outputs": [
    {
     "name": "stdout",
     "output_type": "stream",
     "text": [
      "2 1\n"
     ]
    }
   ],
   "source": [
    "# можем поменять значения двух переменных\n",
    "a = 1\n",
    "b = 2\n",
    "(a, b) = (b, a)\n",
    "print(a, b)"
   ]
  },
  {
   "cell_type": "markdown",
   "metadata": {},
   "source": [
    "## Функция range и for\n",
    "\n",
    "Цикл for позволяет делать повторяющиеся действия с последовательностью элементов\n",
    "\n",
    "for названиеПеременной in последовательность:\n",
    "\n",
    "Range - функиця, возвращающая последовательность\n",
    "В питоне в интервалах левая граница включается, правая - нет:\n",
    "[2,5)\n",
    "\n",
    "- range(start,to,step)\n",
    "- range(5): 0, 1, 2, 3, 4 (5 не включается)\n",
    "- range(2, 5): 2, 3, 4 \n",
    "- range(2, 15, 4): 2, 6, 10, 14 (с шагом 4) "
   ]
  },
  {
   "cell_type": "code",
   "execution_count": 95,
   "metadata": {},
   "outputs": [
    {
     "name": "stdout",
     "output_type": "stream",
     "text": [
      "4\n",
      "9\n",
      "25\n"
     ]
    }
   ],
   "source": [
    "for i in 2, 3, 5:\n",
    "    print(i * i)"
   ]
  },
  {
   "cell_type": "code",
   "execution_count": 96,
   "metadata": {},
   "outputs": [
    {
     "name": "stdout",
     "output_type": "stream",
     "text": [
      "0\n",
      "1\n",
      "4\n",
      "9\n",
      "16\n",
      "25\n",
      "36\n",
      "49\n",
      "64\n",
      "81\n"
     ]
    }
   ],
   "source": [
    "for i in range(10):\n",
    "    print(i * i)"
   ]
  },
  {
   "cell_type": "code",
   "execution_count": 99,
   "metadata": {},
   "outputs": [
    {
     "name": "stdout",
     "output_type": "stream",
     "text": [
      "range(0, 100)\n"
     ]
    }
   ],
   "source": [
    "# посчитаем от 1 до 100\n",
    "print(range(100))"
   ]
  },
  {
   "cell_type": "code",
   "execution_count": 30,
   "metadata": {},
   "outputs": [
    {
     "name": "stdout",
     "output_type": "stream",
     "text": [
      "(1, 2, 3, 4, 5, 6, 7, 8, 9, 10, 11, 12, 13, 14, 15, 16, 17, 18, 19, 20, 21, 22, 23, 24, 25, 26, 27, 28, 29, 30, 31, 32, 33, 34, 35, 36, 37, 38, 39, 40, 41, 42, 43, 44, 45, 46, 47, 48, 49, 50, 51, 52, 53, 54, 55, 56, 57, 58, 59, 60, 61, 62, 63, 64, 65, 66, 67, 68, 69, 70, 71, 72, 73, 74, 75, 76, 77, 78, 79, 80, 81, 82, 83, 84, 85, 86, 87, 88, 89, 90, 91, 92, 93, 94, 95, 96, 97, 98, 99)\n"
     ]
    }
   ],
   "source": [
    "# превращаем параметр в кортеж\n",
    "print(tuple(range(100)))"
   ]
  },
  {
   "cell_type": "code",
   "execution_count": 31,
   "metadata": {},
   "outputs": [
    {
     "name": "stdout",
     "output_type": "stream",
     "text": [
      "(1, 2, 3, 4, 5, 6, 7, 8, 9, 10, 11, 12, 13, 14, 15, 16, 17, 18, 19, 20, 21, 22, 23, 24, 25, 26, 27, 28, 29, 30, 31, 32, 33, 34, 35, 36, 37, 38, 39, 40, 41, 42, 43, 44, 45, 46, 47, 48, 49, 50, 51, 52, 53, 54, 55, 56, 57, 58, 59, 60, 61, 62, 63, 64, 65, 66, 67, 68, 69, 70, 71, 72, 73, 74, 75, 76, 77, 78, 79, 80, 81, 82, 83, 84, 85, 86, 87, 88, 89, 90, 91, 92, 93, 94, 95, 96, 97, 98, 99, 100)\n"
     ]
    }
   ],
   "source": [
    "# левое значение входит, а правое - нет\n",
    "print(tuple(range(1, 101)))"
   ]
  },
  {
   "cell_type": "code",
   "execution_count": 32,
   "metadata": {},
   "outputs": [
    {
     "name": "stdout",
     "output_type": "stream",
     "text": [
      "(1, 3, 5, 7, 9, 11, 13, 15, 17, 19, 21, 23, 25, 27, 29, 31, 33, 35, 37, 39, 41, 43, 45, 47, 49, 51, 53, 55, 57, 59, 61, 63, 65, 67, 69, 71, 73, 75, 77, 79, 81, 83, 85, 87, 89, 91, 93, 95, 97, 99)\n"
     ]
    }
   ],
   "source": [
    "print(tuple(range(1, 101, 2)))"
   ]
  },
  {
   "cell_type": "code",
   "execution_count": 35,
   "metadata": {},
   "outputs": [
    {
     "name": "stdout",
     "output_type": "stream",
     "text": [
      "рыжий кот\n",
      "чёрный кот\n",
      "черепаховый кот\n",
      "полосатый кот\n",
      "all\n"
     ]
    }
   ],
   "source": [
    "for color in ('рыжий', 'чёрный', 'черепаховый', 'полосатый'):\n",
    "    print(color, 'кот')\n",
    "print('all')"
   ]
  },
  {
   "cell_type": "code",
   "execution_count": 37,
   "metadata": {},
   "outputs": [
    {
     "name": "stdout",
     "output_type": "stream",
     "text": [
      "рыжий кот\n",
      "рыжий пёс\n",
      "чёрный кот\n",
      "чёрный пёс\n",
      "черепаховый кот\n",
      "черепаховый пёс\n",
      "полосатый кот\n",
      "полосатый пёс\n",
      "all\n"
     ]
    }
   ],
   "source": [
    "# можем вкладывать их друг в друга\n",
    "for color in ('рыжий', 'чёрный', 'черепаховый', 'полосатый'):\n",
    "    for animal in ('кот', 'пёс'):\n",
    "        print(color, animal)\n",
    "print('all')"
   ]
  },
  {
   "cell_type": "code",
   "execution_count": 40,
   "metadata": {},
   "outputs": [
    {
     "name": "stdout",
     "output_type": "stream",
     "text": [
      "0\n",
      "5\n",
      "10\n",
      "15\n",
      "20\n",
      "25\n",
      "30\n",
      "35\n",
      "40\n",
      "45\n",
      "50\n",
      "55\n",
      "60\n",
      "65\n",
      "70\n",
      "75\n",
      "80\n",
      "85\n",
      "90\n",
      "95\n",
      "100\n"
     ]
    }
   ],
   "source": [
    "for i in range(0, 101, 5):\n",
    "    print(i)"
   ]
  },
  {
   "cell_type": "code",
   "execution_count": 41,
   "metadata": {},
   "outputs": [
    {
     "name": "stdout",
     "output_type": "stream",
     "text": [
      "1 2 3 4 5 6 7 8 9 10 \n",
      "2 4 6 8 10 12 14 16 18 20 \n",
      "3 6 9 12 15 18 21 24 27 30 \n",
      "4 8 12 16 20 24 28 32 36 40 \n",
      "5 10 15 20 25 30 35 40 45 50 \n",
      "6 12 18 24 30 36 42 48 54 60 \n",
      "7 14 21 28 35 42 49 56 63 70 \n",
      "8 16 24 32 40 48 56 64 72 80 \n",
      "9 18 27 36 45 54 63 72 81 90 \n",
      "10 20 30 40 50 60 70 80 90 100 \n"
     ]
    }
   ],
   "source": [
    "# давайте сделаем таблицу умножения\n",
    "for i in range(1, 11):\n",
    "    for j in range(1, 11):\n",
    "        print(i * j, end = ' ')\n",
    "    print() # перевод строки"
   ]
  },
  {
   "cell_type": "code",
   "execution_count": 42,
   "metadata": {},
   "outputs": [
    {
     "name": "stdout",
     "output_type": "stream",
     "text": [
      " 1  2  3  4  5  6  7  8  9 10 \n",
      " 2  4  6  8 10 12 14 16 18 20 \n",
      " 3  6  9 12 15 18 21 24 27 30 \n",
      " 4  8 12 16 20 24 28 32 36 40 \n",
      " 5 10 15 20 25 30 35 40 45 50 \n",
      " 6 12 18 24 30 36 42 48 54 60 \n",
      " 7 14 21 28 35 42 49 56 63 70 \n",
      " 8 16 24 32 40 48 56 64 72 80 \n",
      " 9 18 27 36 45 54 63 72 81 90 \n",
      "10 20 30 40 50 60 70 80 90 100 \n"
     ]
    }
   ],
   "source": [
    "# сделаем красиво\n",
    "for i in range(1, 11):\n",
    "    for j in range(1, 11):\n",
    "        if i * j < 10:   \n",
    "            print(end = ' ') # печатаем ничего и в конце пробел\n",
    "        print(i * j, end = ' ')\n",
    "    print() # перевод строки"
   ]
  },
  {
   "cell_type": "markdown",
   "metadata": {},
   "source": [
    "## Списки и их чтение"
   ]
  },
  {
   "cell_type": "code",
   "execution_count": 43,
   "metadata": {},
   "outputs": [
    {
     "ename": "TypeError",
     "evalue": "'tuple' object does not support item assignment",
     "output_type": "error",
     "traceback": [
      "\u001b[0;31m---------------------------------------------------------------------------\u001b[0m",
      "\u001b[0;31mTypeError\u001b[0m                                 Traceback (most recent call last)",
      "\u001b[0;32m<ipython-input-43-5d0dc2f0243d>\u001b[0m in \u001b[0;36m<module>\u001b[0;34m\u001b[0m\n\u001b[1;32m      1\u001b[0m \u001b[0;31m# попробуем заменить элемент кортежа\u001b[0m\u001b[0;34m\u001b[0m\u001b[0;34m\u001b[0m\u001b[0;34m\u001b[0m\u001b[0m\n\u001b[1;32m      2\u001b[0m \u001b[0ma\u001b[0m \u001b[0;34m=\u001b[0m \u001b[0;34m(\u001b[0m\u001b[0;36m1\u001b[0m\u001b[0;34m,\u001b[0m \u001b[0;36m2\u001b[0m\u001b[0;34m,\u001b[0m \u001b[0;36m3\u001b[0m\u001b[0;34m)\u001b[0m\u001b[0;34m\u001b[0m\u001b[0;34m\u001b[0m\u001b[0m\n\u001b[0;32m----> 3\u001b[0;31m \u001b[0ma\u001b[0m\u001b[0;34m[\u001b[0m\u001b[0;36m0\u001b[0m\u001b[0;34m]\u001b[0m \u001b[0;34m=\u001b[0m \u001b[0;36m5\u001b[0m\u001b[0;34m\u001b[0m\u001b[0;34m\u001b[0m\u001b[0m\n\u001b[0m\u001b[1;32m      4\u001b[0m \u001b[0mprint\u001b[0m\u001b[0;34m(\u001b[0m\u001b[0ma\u001b[0m\u001b[0;34m)\u001b[0m\u001b[0;34m\u001b[0m\u001b[0;34m\u001b[0m\u001b[0m\n",
      "\u001b[0;31mTypeError\u001b[0m: 'tuple' object does not support item assignment"
     ]
    }
   ],
   "source": [
    "# попробуем заменить элемент кортежа\n",
    "a = (1, 2, 3)\n",
    "a[0] = 5\n",
    "print(a)"
   ]
  },
  {
   "cell_type": "markdown",
   "metadata": {},
   "source": [
    "Кортеж не изменяется. Мы можем делать это разными подменами, но это сложно.\n",
    "Лучше давайте научимся работать со списками"
   ]
  },
  {
   "cell_type": "code",
   "execution_count": 44,
   "metadata": {},
   "outputs": [
    {
     "name": "stdout",
     "output_type": "stream",
     "text": [
      "[5, 2, 3]\n"
     ]
    }
   ],
   "source": [
    "a = [1, 2, 3]\n",
    "a[0] = 5\n",
    "print(a)"
   ]
  },
  {
   "cell_type": "code",
   "execution_count": 45,
   "metadata": {},
   "outputs": [
    {
     "name": "stdout",
     "output_type": "stream",
     "text": [
      "[1, 2, 3, 4, 5, 6]\n"
     ]
    }
   ],
   "source": [
    "a = [1, 2, 3]\n",
    "b = [4, 5, 6]\n",
    "print(a + b)"
   ]
  },
  {
   "cell_type": "code",
   "execution_count": 46,
   "metadata": {},
   "outputs": [
    {
     "name": "stdout",
     "output_type": "stream",
     "text": [
      "[1, 2, 3]\n"
     ]
    }
   ],
   "source": [
    "a = [1, 2, 3]\n",
    "b = a\n",
    "print(b)"
   ]
  },
  {
   "cell_type": "code",
   "execution_count": 49,
   "metadata": {},
   "outputs": [
    {
     "name": "stdout",
     "output_type": "stream",
     "text": [
      "[5, 2, 3] [5, 2, 3]\n"
     ]
    }
   ],
   "source": [
    "a = [1, 2, 3]\n",
    "b = a  # два указателя на один и тот же объект\n",
    "a[0] = 5\n",
    "print(a, b)"
   ]
  },
  {
   "cell_type": "code",
   "execution_count": 50,
   "metadata": {},
   "outputs": [
    {
     "name": "stdout",
     "output_type": "stream",
     "text": [
      "[5, 2, 3] [1, 2, 3]\n"
     ]
    }
   ],
   "source": [
    "# допустим, мы хотим сохранить оригинал и вносить изменения в копию\n",
    "a = [1, 2, 3]\n",
    "b = a.copy()\n",
    "a[0] = 5\n",
    "print(a, b)"
   ]
  },
  {
   "cell_type": "code",
   "execution_count": 51,
   "metadata": {},
   "outputs": [
    {
     "name": "stdout",
     "output_type": "stream",
     "text": [
      "[5, 2, 3] [1, 2, 3]\n"
     ]
    }
   ],
   "source": [
    "# либо создаём новый объект через срез\n",
    "# когда делаем срез - у нас создаётся новый объект \n",
    "a = [1, 2, 3]\n",
    "b = a[:] # срез от начала до конца\n",
    "a[0] = 5\n",
    "print(a, b)"
   ]
  },
  {
   "cell_type": "code",
   "execution_count": 53,
   "metadata": {},
   "outputs": [
    {
     "name": "stdout",
     "output_type": "stream",
     "text": [
      "[5, 2, 3] [1, 2, 3]\n"
     ]
    }
   ],
   "source": [
    "# несмотря на то, что списки записываются одинаково, это два разных объекта\n",
    "a = [1, 2, 3]\n",
    "b = [1, 2, 3]\n",
    "a[0] = 5\n",
    "print(a, b)"
   ]
  },
  {
   "cell_type": "code",
   "execution_count": 56,
   "metadata": {},
   "outputs": [
    {
     "name": "stdout",
     "output_type": "stream",
     "text": [
      "[4, 5] [1, 2]\n"
     ]
    }
   ],
   "source": [
    "# бирочки\n",
    "a = [1, 2]\n",
    "b = a\n",
    "a = [4, 5]\n",
    "print(a, b)"
   ]
  },
  {
   "cell_type": "code",
   "execution_count": 58,
   "metadata": {},
   "outputs": [
    {
     "name": "stdout",
     "output_type": "stream",
     "text": [
      "4\n",
      "[1, 2, 3, 4]\n"
     ]
    }
   ],
   "source": [
    "# хотим получить список первых N чисел до числа пользователя\n",
    "n = int(input())\n",
    "a = list(range(1, n + 1)) # делаем из него список\n",
    "print(a)"
   ]
  },
  {
   "cell_type": "code",
   "execution_count": 59,
   "metadata": {},
   "outputs": [
    {
     "name": "stdout",
     "output_type": "stream",
     "text": [
      "1\n",
      "2\n",
      "3\n",
      "4\n",
      "0\n",
      "[1, 2, 3, 4]\n"
     ]
    }
   ],
   "source": [
    "# записываем все числа в список, пока не получим 0\n",
    "a = []\n",
    "x = int(input())\n",
    "while x != 0:\n",
    "    a = a + [x] # превращаем переменную в список и плюсуем к старому\n",
    "    x = int(input())\n",
    "print(a)"
   ]
  },
  {
   "cell_type": "markdown",
   "metadata": {},
   "source": [
    "Способ плохой и медленный: потому что каждый раз мы конструируем новый объект из старого + нового.\n",
    "\n",
    "Для таких задач есть метод append"
   ]
  },
  {
   "cell_type": "code",
   "execution_count": 62,
   "metadata": {},
   "outputs": [
    {
     "name": "stdout",
     "output_type": "stream",
     "text": [
      "3\n",
      "4\n",
      "5\n",
      "0\n",
      "[3, 4, 5]\n"
     ]
    }
   ],
   "source": [
    "# записываем все числа в список, пока не получим 0\n",
    "a = []\n",
    "x = int(input())\n",
    "while x != 0:\n",
    "    a.append(x)\n",
    "    x = int(input())\n",
    "print(a)"
   ]
  },
  {
   "cell_type": "code",
   "execution_count": 63,
   "metadata": {},
   "outputs": [
    {
     "name": "stdout",
     "output_type": "stream",
     "text": [
      "1\n",
      "2\n",
      "3\n",
      "0\n",
      "[3, 2, 1]\n"
     ]
    }
   ],
   "source": [
    "# записываем все числа в список, пока не получим 0\n",
    "a = []\n",
    "x = int(input())\n",
    "while x != 0:\n",
    "    a.append(x)\n",
    "    x = int(input())\n",
    "print(a[::-1])"
   ]
  },
  {
   "cell_type": "code",
   "execution_count": 64,
   "metadata": {},
   "outputs": [
    {
     "name": "stdout",
     "output_type": "stream",
     "text": [
      "['ab', 'cd', 'ef']\n"
     ]
    }
   ],
   "source": [
    "# порежем строку на кусочки по словам\n",
    "print('ab  cd       ef'.split())"
   ]
  },
  {
   "cell_type": "code",
   "execution_count": 66,
   "metadata": {},
   "outputs": [
    {
     "name": "stdout",
     "output_type": "stream",
     "text": [
      "     нарезаем       пользовательский текст\n",
      "['нарезаем', 'пользовательский', 'текст']\n"
     ]
    }
   ],
   "source": [
    "s = input()\n",
    "print(s.split())"
   ]
  },
  {
   "cell_type": "code",
   "execution_count": 68,
   "metadata": {},
   "outputs": [
    {
     "name": "stdout",
     "output_type": "stream",
     "text": [
      "     нарезаем       пользовательский текст\n",
      "['нарезаем', 'пользовательский', 'текст']\n"
     ]
    }
   ],
   "source": [
    "# то же самое, только одной строкой\n",
    "print(input().split())"
   ]
  },
  {
   "cell_type": "code",
   "execution_count": 72,
   "metadata": {},
   "outputs": [
    {
     "name": "stdout",
     "output_type": "stream",
     "text": [
      "1 2 3 4 5\n",
      "[1, 2, 3, 4, 5]\n"
     ]
    }
   ],
   "source": [
    "# считыем то, что ввёл пользователь в одной строке\n",
    "a = list(map(int, input().split()))\n",
    "print(a)"
   ]
  },
  {
   "cell_type": "markdown",
   "metadata": {},
   "source": [
    "**input()** - считывает то, что ввёл пользователь\n",
    "\n",
    "**split()** - режет строку по пробелам\n",
    "\n",
    "**map(int** - к полученному списку применяем функцию, переданную в качестве первого параметра - int. intприменится к каждому элементу списка последовательно. Получился какой-то магический map object\n",
    "\n",
    "**list** - превращаем всё в список "
   ]
  },
  {
   "cell_type": "code",
   "execution_count": 76,
   "metadata": {},
   "outputs": [
    {
     "name": "stdout",
     "output_type": "stream",
     "text": [
      "1 2 3 5\n",
      "1 2 3 5\n"
     ]
    }
   ],
   "source": [
    "# избавляемся от скобочек и запятых, выводим через пробел\n",
    "a = list(map(int, input().split()))\n",
    "print(*a)"
   ]
  },
  {
   "cell_type": "markdown",
   "metadata": {},
   "source": [
    "**join** объединяет все элементы списка или кортежа через тот разделитель, который мы задаём.\n",
    "\n",
    "разделитель.join(что_разделяем)"
   ]
  },
  {
   "cell_type": "code",
   "execution_count": 77,
   "metadata": {},
   "outputs": [
    {
     "name": "stdout",
     "output_type": "stream",
     "text": [
      "1 2 3 4\n"
     ]
    },
    {
     "ename": "TypeError",
     "evalue": "sequence item 0: expected str instance, int found",
     "output_type": "error",
     "traceback": [
      "\u001b[0;31m---------------------------------------------------------------------------\u001b[0m",
      "\u001b[0;31mTypeError\u001b[0m                                 Traceback (most recent call last)",
      "\u001b[0;32m<ipython-input-77-f54fc1a6a5b9>\u001b[0m in \u001b[0;36m<module>\u001b[0;34m\u001b[0m\n\u001b[1;32m      1\u001b[0m \u001b[0ma\u001b[0m \u001b[0;34m=\u001b[0m \u001b[0mlist\u001b[0m\u001b[0;34m(\u001b[0m\u001b[0mmap\u001b[0m\u001b[0;34m(\u001b[0m\u001b[0mint\u001b[0m\u001b[0;34m,\u001b[0m \u001b[0minput\u001b[0m\u001b[0;34m(\u001b[0m\u001b[0;34m)\u001b[0m\u001b[0;34m.\u001b[0m\u001b[0msplit\u001b[0m\u001b[0;34m(\u001b[0m\u001b[0;34m)\u001b[0m\u001b[0;34m)\u001b[0m\u001b[0;34m)\u001b[0m\u001b[0;34m\u001b[0m\u001b[0;34m\u001b[0m\u001b[0m\n\u001b[0;32m----> 2\u001b[0;31m \u001b[0mprint\u001b[0m\u001b[0;34m(\u001b[0m\u001b[0;34m', '\u001b[0m\u001b[0;34m.\u001b[0m\u001b[0mjoin\u001b[0m\u001b[0;34m(\u001b[0m\u001b[0ma\u001b[0m\u001b[0;34m)\u001b[0m\u001b[0;34m)\u001b[0m\u001b[0;34m\u001b[0m\u001b[0;34m\u001b[0m\u001b[0m\n\u001b[0m",
      "\u001b[0;31mTypeError\u001b[0m: sequence item 0: expected str instance, int found"
     ]
    }
   ],
   "source": [
    "a = list(map(int, input().split()))\n",
    "print(', '.join(a))"
   ]
  },
  {
   "cell_type": "code",
   "execution_count": 83,
   "metadata": {},
   "outputs": [
    {
     "name": "stdout",
     "output_type": "stream",
     "text": [
      "1 2 3 4\n",
      "1, 2, 3, 4\n"
     ]
    }
   ],
   "source": [
    "a = list(map(int, input().split()))\n",
    "print(', '.join(list(map(str, a))))"
   ]
  },
  {
   "cell_type": "markdown",
   "metadata": {},
   "source": [
    "## Функции\n",
    "\n",
    "Упрощаем наш длинный код - декомпозируем\n",
    "\n",
    "Объединяем набор действий, которые логически выделены в блок\n",
    "\n",
    "def имя функции(имя параметра)"
   ]
  },
  {
   "cell_type": "code",
   "execution_count": 85,
   "metadata": {},
   "outputs": [
    {
     "name": "stdout",
     "output_type": "stream",
     "text": [
      "1, 2, 3\n"
     ]
    }
   ],
   "source": [
    "def printList(myList):\n",
    "    print(', '.join(list(map(str, myList))))\n",
    "\n",
    "a = [1, 2, 3]\n",
    "printList(a)"
   ]
  },
  {
   "cell_type": "code",
   "execution_count": 87,
   "metadata": {},
   "outputs": [
    {
     "name": "stdout",
     "output_type": "stream",
     "text": [
      "6\n"
     ]
    }
   ],
   "source": [
    "# давайте сделаем факториал\n",
    "def factorial(n):\n",
    "    ans = 1\n",
    "    for i in range (1, n + 1): # перебираем все числа до того, которое ввели\n",
    "        ans *= i # домножаем на текущее число\n",
    "    return ans\n",
    "\n",
    "print(factorial(3))"
   ]
  },
  {
   "cell_type": "code",
   "execution_count": 88,
   "metadata": {},
   "outputs": [
    {
     "name": "stdout",
     "output_type": "stream",
     "text": [
      "10\n"
     ]
    }
   ],
   "source": [
    "# страшная задачка на комбинаторику\n",
    "# количество способов выбрать k элементов из n\n",
    "def factorial(n):\n",
    "    ans = 1\n",
    "    for i in range (1, n + 1): # перебираем все числа до того, которое ввели\n",
    "        ans *= i # домножаем на текущее число\n",
    "    return ans\n",
    "\n",
    "def cnk(n, k):\n",
    "    return factorial(n) // (factorial(k) * factorial (n - k))\n",
    "\n",
    "# у нас есть 5 пальцев, сколько есть жестов из 2 пальцев\n",
    "print(cnk(5, 2))\n"
   ]
  },
  {
   "cell_type": "markdown",
   "metadata": {},
   "source": [
    "Зачем это надо?\n",
    "\n",
    "Декомпозиция задачи - разбиваем большую задачу на нескольно небольших логичных кусочков, которые помещаются на экран. \n",
    "\n",
    "- Чтение данных\n",
    "- Подготовка данных\n",
    "- Преобразование данных, создание функций\n",
    "- Вывод данных"
   ]
  },
  {
   "cell_type": "code",
   "execution_count": 91,
   "metadata": {},
   "outputs": [
    {
     "name": "stdout",
     "output_type": "stream",
     "text": [
      "10 15\n",
      "15\n"
     ]
    }
   ],
   "source": [
    "# вычисляем максимум из двух чисел\n",
    "def max2(a, b):\n",
    "    if a > b:\n",
    "        return a\n",
    "    else:\n",
    "        return b\n",
    "\n",
    "(c, d) = list(map(int, input().split()))\n",
    "print(max2(c, d))"
   ]
  },
  {
   "cell_type": "markdown",
   "metadata": {},
   "source": [
    "Есть разница между локальными и глобальными переменными.\n",
    "\n",
    "**Глобальные** переменные видны во всех функциях программы.\n",
    "Переменные, значения кторых изменяются внутри функции - **локальные** переменные, потому что они доступны только фнутри функции. Как только функция заканчивает свою работу, переменная уничтожается.\n"
   ]
  },
  {
   "cell_type": "code",
   "execution_count": 92,
   "metadata": {},
   "outputs": [
    {
     "name": "stdout",
     "output_type": "stream",
     "text": [
      "10 15\n",
      "15\n"
     ]
    }
   ],
   "source": [
    "# вычисляем максимум из двух чисел\n",
    "def max2(a, b):\n",
    "    if a > b:\n",
    "        return a\n",
    "    return b\n",
    "\n",
    "(c, d) = list(map(int, input().split()))\n",
    "print(max2(c, d))"
   ]
  },
  {
   "cell_type": "code",
   "execution_count": 93,
   "metadata": {},
   "outputs": [
    {
     "name": "stdout",
     "output_type": "stream",
     "text": [
      "1 2 3\n",
      "3\n"
     ]
    }
   ],
   "source": [
    "# вычисляем максимум из двух чисел\n",
    "def max2(a, b):\n",
    "    if a > b:\n",
    "        return a\n",
    "    return b\n",
    "\n",
    "# вычисляем максимум из трёх чисел\n",
    "def max3(a, b, c):\n",
    "        return max2(max(a, b), c) # max(a, b) - первый параметр, с - второй\n",
    "\n",
    "(c, d, e) = list(map(int, input().split()))\n",
    "print(max3(c, d, e))"
   ]
  },
  {
   "cell_type": "code",
   "execution_count": null,
   "metadata": {},
   "outputs": [],
   "source": []
  }
 ],
 "metadata": {
  "kernelspec": {
   "display_name": "Python 3",
   "language": "python",
   "name": "python3"
  },
  "language_info": {
   "codemirror_mode": {
    "name": "ipython",
    "version": 3
   },
   "file_extension": ".py",
   "mimetype": "text/x-python",
   "name": "python",
   "nbconvert_exporter": "python",
   "pygments_lexer": "ipython3",
   "version": "3.7.1"
  }
 },
 "nbformat": 4,
 "nbformat_minor": 2
}
