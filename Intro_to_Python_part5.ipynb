{
 "cells": [
  {
   "cell_type": "markdown",
   "metadata": {},
   "source": [
    "## Текстовые файлы и таблицы\n",
    "\n",
    "Чтобы читать из текстового файла, сначала создаём файловый дескриптор.\n",
    "\n",
    "Для чтения строк в текстовом файле используем readline, это такой аналог input"
   ]
  },
  {
   "cell_type": "code",
   "execution_count": 6,
   "metadata": {},
   "outputs": [
    {
     "name": "stdout",
     "output_type": "stream",
     "text": [
      "1 2 3 4 5 6\n",
      "\n"
     ]
    }
   ],
   "source": [
    "fin = open('text_file.txt', 'r', encoding = 'utf8')\n",
    "\n",
    "s = fin.readline()\n",
    "print(s)"
   ]
  },
  {
   "cell_type": "code",
   "execution_count": 9,
   "metadata": {
    "scrolled": true
   },
   "outputs": [
    {
     "name": "stdout",
     "output_type": "stream",
     "text": [
      "21\n"
     ]
    }
   ],
   "source": [
    "# суммируем числа из текстового файла\n",
    "fin = open('text_file.txt', 'r', encoding = 'utf8')\n",
    "\n",
    "# преобразуем каждый элемент полученной последовательности в число\n",
    "s = sum(map(int, fin.readline().split()))\n",
    "print(s)"
   ]
  },
  {
   "cell_type": "markdown",
   "metadata": {},
   "source": [
    "Если открыли дескриптор - хорошо бы его потом закрыть."
   ]
  },
  {
   "cell_type": "code",
   "execution_count": 10,
   "metadata": {},
   "outputs": [
    {
     "name": "stdout",
     "output_type": "stream",
     "text": [
      "21 24\n"
     ]
    }
   ],
   "source": [
    "fin = open('text_file.txt', 'r', encoding = 'utf8')\n",
    "\n",
    "s = sum(map(int, fin.readline().split()))\n",
    "s2 = sum(map(int, fin.readline().split()))\n",
    "\n",
    "fin.close\n",
    "\n",
    "print(s, s2)"
   ]
  },
  {
   "cell_type": "code",
   "execution_count": 13,
   "metadata": {},
   "outputs": [
    {
     "name": "stdout",
     "output_type": "stream",
     "text": [
      "2\n"
     ]
    }
   ],
   "source": [
    "# считаем число строк с упоминанем нужного нам слова\n",
    "\n",
    "fin = open('text_file.txt', 'r', encoding = 'utf8')\n",
    "\n",
    "cnt = 0\n",
    "for line in fin:\n",
    "    if 'панда' in line:\n",
    "        cnt +=1\n",
    "\n",
    "fin.close\n",
    "print(cnt)"
   ]
  },
  {
   "cell_type": "code",
   "execution_count": 15,
   "metadata": {},
   "outputs": [
    {
     "name": "stdout",
     "output_type": "stream",
     "text": [
      "46178\n"
     ]
    }
   ],
   "source": [
    "# считаем сумму числе в файле\n",
    "fin = open('numbers.txt', 'r', encoding = 'utf8')\n",
    "\n",
    "# сначала считываем вообще всё содержимое файла\n",
    "\n",
    "s = sum(map(int,fin.read().split())) \n",
    "\n",
    "fin.close()\n",
    "\n",
    "print(s)"
   ]
  },
  {
   "cell_type": "markdown",
   "metadata": {},
   "source": [
    "Метод read считывает всё содержимое файла в одну строку.\n",
    "Если точнее - считывает в один string объект все lines, которые есть файле - то есть строки, которые заканчиваются переводом строки."
   ]
  },
  {
   "cell_type": "code",
   "execution_count": 16,
   "metadata": {},
   "outputs": [
    {
     "name": "stdout",
     "output_type": "stream",
     "text": [
      "['2 6 7 8 \\n', '\\n', '         45667 \\n', '             345\\n', '             \\n', '        3  3 3 56 78']\n"
     ]
    }
   ],
   "source": [
    "fin = open('numbers.txt', 'r', encoding = 'utf8')\n",
    "\n",
    "s = fin.readlines()\n",
    "\n",
    "fin.close()\n",
    "\n",
    "print(s)"
   ]
  },
  {
   "cell_type": "markdown",
   "metadata": {},
   "source": [
    "readlines считывает все строки в список\n",
    "\\n - это перевод строки\n",
    "\n",
    "Методы read и readlines позволяют всё содержимое файла получить в строковой переменной. И если файл большой - то мы забиваем память. В таких случаях лучше считывать строки через цикл for, чтобы в памяти единовременно хранилась одна короткая строка"
   ]
  },
  {
   "cell_type": "code",
   "execution_count": 26,
   "metadata": {},
   "outputs": [],
   "source": [
    "# пишем в файл\n",
    "# выведем строки из одного файла в другой в обратном порядке\n",
    "\n",
    "fin = open('numbers.txt', 'r', encoding = 'utf8')\n",
    "fout = open('output.txt', 'w', encoding = 'utf8')\n",
    "s = fin.readlines()\n",
    "print(''.join(s[::-1]), file = fout) #используем разделитель и объединяем развёрнутый список\n",
    "\n",
    "fout.close()\n",
    "fin.close()"
   ]
  },
  {
   "cell_type": "markdown",
   "metadata": {},
   "source": [
    "Где искать файл?\n",
    "Там же, где лежит проект.\n",
    "\n",
    "Что не так с файлом?\n",
    "\n",
    "Строк стало вдвое больше.\n",
    "Это происходит потому, что метод readlines сохраняет в конце строки перевод строки. Полчается, мы своим кодом добавляем дополнительный перевод строки.\n",
    "\n",
    "Что надо делать? \n",
    "\n",
    "Объединять строки не через перевод строки '\\n', а через пустую строку."
   ]
  },
  {
   "cell_type": "markdown",
   "metadata": {},
   "source": [
    "## CSV files\n",
    "\n",
    "comma-separated values: https://ru.wikipedia.org/wiki/CSV\n",
    "\n",
    "Термином «CSV» могут обозначаться похожие форматы, в которых разделителем является символ табуляции (TSV) или точка с запятой.\n"
   ]
  },
  {
   "cell_type": "code",
   "execution_count": 28,
   "metadata": {},
   "outputs": [
    {
     "name": "stdout",
     "output_type": "stream",
     "text": [
      "['3932', '1602', '78194\\n']\n",
      "['5600', '131902', '117633\\n']\n",
      "['11815', '75070', '120535\\n']\n",
      "['25200', '4337', '108090\\n']\n",
      "['23000', '122798', '83\\n']\n",
      "['924', '123415', '59640\\n']\n",
      "['1041', '4230', '118349\\n']\n",
      "['68479', '35882', '224815\\n']\n",
      "['1760', '145849', '893115\\n']\n",
      "['17000', '2200', '39888\\n']\n",
      "['18588', '128734', '145596\\n']\n",
      "['18000', '7566', '30222\\n']\n",
      "['11402', '1393', '31871\\n']\n",
      "['4308', '3318', '93517\\n']\n",
      "['3697', '8199', '66884\\n']\n",
      "['3586', '3116', '53344\\n']\n",
      "['11079', '20016', '156983\\n']\n",
      "['61402', '6717', '66101\\n']\n",
      "['2388', '20995', '50238\\n']\n",
      "['3244', '3838', '56492\\n']\n",
      "['82277', '60171', '62622\\n']\n",
      "['9972', '10250', '12011\\n']\n",
      "['75819', '311', '70895\\n']\n",
      "['64722', '70905', '63128\\n']\n",
      "['94971', '649', '53013\\n']\n",
      "['4929', '26455', '23000\\n']\n",
      "['158927', '138021', '110626\\n']\n",
      "['109947', '86598', '2500\\n']\n",
      "['58195', '15158', '11500\\n']\n",
      "['6732', '129440', '17000\\n']\n",
      "['16201', '82456', '3347\\n']\n",
      "['23000', '18588', '4352\\n']\n",
      "['1249', '13941', '18588']\n"
     ]
    }
   ],
   "source": [
    "file = open('may_bookings.csv', 'r', encoding = 'utf8')\n",
    "\n",
    "vals = []\n",
    "for line in file:\n",
    "    now = line.split(';') # что-то не так\n",
    "    print(now)\n",
    "    \n",
    "file.close()    "
   ]
  },
  {
   "cell_type": "code",
   "execution_count": 34,
   "metadata": {},
   "outputs": [
    {
     "name": "stdout",
     "output_type": "stream",
     "text": [
      "[3932, 1602, 78194, 5600, 131902, 117633, 11815, 75070, 120535, 25200, 4337, 108090, 23000, 122798, 83, 924, 123415, 59640, 1041, 4230, 118349, 68479, 35882, 224815, 1760, 145849, 893115, 17000, 2200, 39888, 18588, 128734, 145596, 18000, 7566, 30222, 11402, 1393, 31871, 4308, 3318, 93517, 3697, 8199, 66884, 3586, 3116, 53344, 11079, 20016, 156983, 61402, 6717, 66101, 2388, 20995, 50238, 3244, 3838, 56492, 82277, 60171, 62622, 9972, 10250, 12011, 75819, 311, 70895, 64722, 70905, 63128, 94971, 649, 53013, 4929, 26455, 23000, 158927, 138021, 110626, 109947, 86598, 2500, 58195, 15158, 11500, 6732, 129440, 17000, 16201, 82456, 3347, 23000, 18588, 4352, 1249, 13941, 18588]\n"
     ]
    }
   ],
   "source": [
    "file = open('may_bookings.csv', 'r', encoding = 'utf8')\n",
    "\n",
    "vals = []\n",
    "for line in file:\n",
    "    now = line.split(';')\n",
    "    vals.extend(list(map(int, now)))\n",
    "print(vals)\n",
    "    \n",
    "file.close()    "
   ]
  },
  {
   "cell_type": "code",
   "execution_count": 29,
   "metadata": {},
   "outputs": [
    {
     "name": "stdout",
     "output_type": "stream",
     "text": [
      "23000\n",
      "55269.47474747475\n"
     ]
    }
   ],
   "source": [
    "# посчитаем медианную и среднюю стоимость\n",
    "\n",
    "import statistics\n",
    "\n",
    "file = open('may_bookings.csv', 'r', encoding = 'utf8')\n",
    "\n",
    "vals = []\n",
    "for line in file:\n",
    "    now = line.split(';')\n",
    "    vals.extend(list(map(int, now)))\n",
    "    \n",
    "print(statistics.median(vals))\n",
    "print(statistics.mean(vals))\n",
    "    \n",
    "file.close()    "
   ]
  },
  {
   "cell_type": "code",
   "execution_count": 30,
   "metadata": {},
   "outputs": [],
   "source": [
    "import pandas as pd\n",
    "\n",
    "data = pd.read_csv('booking.csv', encoding = 'utf8')"
   ]
  },
  {
   "cell_type": "code",
   "execution_count": 68,
   "metadata": {},
   "outputs": [
    {
     "data": {
      "text/html": [
       "<div>\n",
       "<style scoped>\n",
       "    .dataframe tbody tr th:only-of-type {\n",
       "        vertical-align: middle;\n",
       "    }\n",
       "\n",
       "    .dataframe tbody tr th {\n",
       "        vertical-align: top;\n",
       "    }\n",
       "\n",
       "    .dataframe thead th {\n",
       "        text-align: right;\n",
       "    }\n",
       "</style>\n",
       "<table border=\"1\" class=\"dataframe\">\n",
       "  <thead>\n",
       "    <tr style=\"text-align: right;\">\n",
       "      <th></th>\n",
       "      <th>arrival_date</th>\n",
       "      <th>destination_region</th>\n",
       "      <th>destination_city</th>\n",
       "      <th>length_of_stay</th>\n",
       "      <th>has_meal</th>\n",
       "      <th>purpose_trip</th>\n",
       "      <th>sell_price</th>\n",
       "      <th>user_id</th>\n",
       "    </tr>\n",
       "  </thead>\n",
       "  <tbody>\n",
       "    <tr>\n",
       "      <th>0</th>\n",
       "      <td>2019-04-01</td>\n",
       "      <td>International</td>\n",
       "      <td>Prague</td>\n",
       "      <td>1</td>\n",
       "      <td>1</td>\n",
       "      <td>leasure</td>\n",
       "      <td>13956</td>\n",
       "      <td>13879</td>\n",
       "    </tr>\n",
       "    <tr>\n",
       "      <th>1</th>\n",
       "      <td>2019-04-12</td>\n",
       "      <td>International</td>\n",
       "      <td>Iru Fushi</td>\n",
       "      <td>4</td>\n",
       "      <td>1</td>\n",
       "      <td>business</td>\n",
       "      <td>249652</td>\n",
       "      <td>34483</td>\n",
       "    </tr>\n",
       "    <tr>\n",
       "      <th>2</th>\n",
       "      <td>2019-02-14</td>\n",
       "      <td>Russia</td>\n",
       "      <td>Kostroma</td>\n",
       "      <td>5</td>\n",
       "      <td>0</td>\n",
       "      <td>business</td>\n",
       "      <td>12647</td>\n",
       "      <td>19613</td>\n",
       "    </tr>\n",
       "  </tbody>\n",
       "</table>\n",
       "</div>"
      ],
      "text/plain": [
       "  arrival_date destination_region destination_city  length_of_stay  has_meal  \\\n",
       "0   2019-04-01      International           Prague               1         1   \n",
       "1   2019-04-12      International        Iru Fushi               4         1   \n",
       "2   2019-02-14             Russia         Kostroma               5         0   \n",
       "\n",
       "  purpose_trip  sell_price  user_id  \n",
       "0      leasure       13956    13879  \n",
       "1     business      249652    34483  \n",
       "2     business       12647    19613  "
      ]
     },
     "execution_count": 68,
     "metadata": {},
     "output_type": "execute_result"
    }
   ],
   "source": [
    "# Смотрим первые три строки\n",
    "data[:3]"
   ]
  },
  {
   "cell_type": "code",
   "execution_count": 71,
   "metadata": {},
   "outputs": [
    {
     "data": {
      "text/html": [
       "<div>\n",
       "<style scoped>\n",
       "    .dataframe tbody tr th:only-of-type {\n",
       "        vertical-align: middle;\n",
       "    }\n",
       "\n",
       "    .dataframe tbody tr th {\n",
       "        vertical-align: top;\n",
       "    }\n",
       "\n",
       "    .dataframe thead th {\n",
       "        text-align: right;\n",
       "    }\n",
       "</style>\n",
       "<table border=\"1\" class=\"dataframe\">\n",
       "  <thead>\n",
       "    <tr style=\"text-align: right;\">\n",
       "      <th></th>\n",
       "      <th>arrival_date</th>\n",
       "      <th>destination_region</th>\n",
       "      <th>destination_city</th>\n",
       "      <th>length_of_stay</th>\n",
       "      <th>has_meal</th>\n",
       "      <th>purpose_trip</th>\n",
       "      <th>sell_price</th>\n",
       "      <th>user_id</th>\n",
       "    </tr>\n",
       "  </thead>\n",
       "  <tbody>\n",
       "    <tr>\n",
       "      <th>0</th>\n",
       "      <td>2019-04-01</td>\n",
       "      <td>International</td>\n",
       "      <td>Prague</td>\n",
       "      <td>1</td>\n",
       "      <td>1</td>\n",
       "      <td>leasure</td>\n",
       "      <td>13956</td>\n",
       "      <td>13879</td>\n",
       "    </tr>\n",
       "    <tr>\n",
       "      <th>1</th>\n",
       "      <td>2019-04-12</td>\n",
       "      <td>International</td>\n",
       "      <td>Iru Fushi</td>\n",
       "      <td>4</td>\n",
       "      <td>1</td>\n",
       "      <td>business</td>\n",
       "      <td>249652</td>\n",
       "      <td>34483</td>\n",
       "    </tr>\n",
       "    <tr>\n",
       "      <th>2</th>\n",
       "      <td>2019-02-14</td>\n",
       "      <td>Russia</td>\n",
       "      <td>Kostroma</td>\n",
       "      <td>5</td>\n",
       "      <td>0</td>\n",
       "      <td>business</td>\n",
       "      <td>12647</td>\n",
       "      <td>19613</td>\n",
       "    </tr>\n",
       "    <tr>\n",
       "      <th>3</th>\n",
       "      <td>2019-02-18</td>\n",
       "      <td>International</td>\n",
       "      <td>Budapest</td>\n",
       "      <td>3</td>\n",
       "      <td>1</td>\n",
       "      <td>business</td>\n",
       "      <td>84109</td>\n",
       "      <td>22760</td>\n",
       "    </tr>\n",
       "    <tr>\n",
       "      <th>4</th>\n",
       "      <td>2019-02-28</td>\n",
       "      <td>Russia</td>\n",
       "      <td>Sochi</td>\n",
       "      <td>1</td>\n",
       "      <td>1</td>\n",
       "      <td>business</td>\n",
       "      <td>3987</td>\n",
       "      <td>17577</td>\n",
       "    </tr>\n",
       "  </tbody>\n",
       "</table>\n",
       "</div>"
      ],
      "text/plain": [
       "  arrival_date destination_region destination_city  length_of_stay  has_meal  \\\n",
       "0   2019-04-01      International           Prague               1         1   \n",
       "1   2019-04-12      International        Iru Fushi               4         1   \n",
       "2   2019-02-14             Russia         Kostroma               5         0   \n",
       "3   2019-02-18      International         Budapest               3         1   \n",
       "4   2019-02-28             Russia            Sochi               1         1   \n",
       "\n",
       "  purpose_trip  sell_price  user_id  \n",
       "0      leasure       13956    13879  \n",
       "1     business      249652    34483  \n",
       "2     business       12647    19613  \n",
       "3     business       84109    22760  \n",
       "4     business        3987    17577  "
      ]
     },
     "execution_count": 71,
     "metadata": {},
     "output_type": "execute_result"
    }
   ],
   "source": [
    "data.head()"
   ]
  },
  {
   "cell_type": "markdown",
   "metadata": {},
   "source": [
    "## Чтение XLSX-файлов"
   ]
  },
  {
   "cell_type": "code",
   "execution_count": 33,
   "metadata": {},
   "outputs": [
    {
     "name": "stdout",
     "output_type": "stream",
     "text": [
      "['List1', 'Salary', 'Job']\n"
     ]
    }
   ],
   "source": [
    "# читаем название листов\n",
    "from openpyxl import load_workbook\n",
    "\n",
    "wb = load_workbook(filename = 'may_bookings.xlsx')\n",
    "print(wb.sheetnames)"
   ]
  },
  {
   "cell_type": "code",
   "execution_count": 34,
   "metadata": {},
   "outputs": [
    {
     "name": "stdout",
     "output_type": "stream",
     "text": [
      "<Worksheet \"List1\">\n"
     ]
    }
   ],
   "source": [
    "wb = load_workbook(filename = 'may_bookings.xlsx')\n",
    "\n",
    "sheet = wb['List1']\n",
    "print(sheet)"
   ]
  },
  {
   "cell_type": "code",
   "execution_count": 36,
   "metadata": {},
   "outputs": [
    {
     "name": "stdout",
     "output_type": "stream",
     "text": [
      "['List1', 'Salary', 'Job']\n",
      "5600\n",
      "66101\n"
     ]
    }
   ],
   "source": [
    "# вытаскиваем значения с листа\n",
    "\n",
    "wb = load_workbook(filename = 'may_bookings.xlsx')\n",
    "print(wb.sheetnames)\n",
    "print(wb['List1']['A1'].value)\n",
    "print(wb['List1']['B1'].value)"
   ]
  },
  {
   "cell_type": "code",
   "execution_count": 39,
   "metadata": {},
   "outputs": [
    {
     "name": "stdout",
     "output_type": "stream",
     "text": [
      "5605\n",
      "66103\n",
      "71701\n"
     ]
    }
   ],
   "source": [
    "print(wb['List1']['A1'].value + 5)\n",
    "print(wb['List1']['B1'].value + 2)\n",
    "print(wb['List1']['A1'].value + wb['List1']['B1'].value)"
   ]
  },
  {
   "cell_type": "code",
   "execution_count": 40,
   "metadata": {},
   "outputs": [
    {
     "name": "stdout",
     "output_type": "stream",
     "text": [
      "<Cell 'List1'.B3>\n",
      "56492\n",
      "B\n",
      "3\n",
      "B3\n"
     ]
    }
   ],
   "source": [
    "sheet = wb['List1']\n",
    "c = sheet['B3']\n",
    "print(c)\n",
    "print(c.value)\n",
    "print(c.column)\n",
    "print(c.row)\n",
    "print(c.coordinate)"
   ]
  },
  {
   "cell_type": "code",
   "execution_count": 42,
   "metadata": {},
   "outputs": [
    {
     "name": "stdout",
     "output_type": "stream",
     "text": [
      "1041\n"
     ]
    }
   ],
   "source": [
    "# ищем значение в таблице\n",
    "d = sheet.cell(row = 7, column = 1)\n",
    "print(d.value)"
   ]
  },
  {
   "cell_type": "code",
   "execution_count": 49,
   "metadata": {
    "scrolled": false
   },
   "outputs": [
    {
     "name": "stdout",
     "output_type": "stream",
     "text": [
      "5600\n",
      "66101\n",
      "3932\n",
      "50238\n",
      "11815\n",
      "56492\n",
      "25200\n",
      "62622\n",
      "23000\n",
      "12011\n",
      "924\n",
      "70895\n",
      "1041\n",
      "63128\n",
      "68479\n",
      "53013\n",
      "1760\n",
      "75819\n",
      "17000\n",
      "64722\n",
      "18588\n",
      "94971\n",
      "18000\n",
      "4929\n",
      "11402\n",
      "158927\n",
      "4308\n",
      "109947\n",
      "3697\n",
      "58195\n",
      "3586\n",
      "6732\n",
      "11079\n",
      "16201\n",
      "61402\n",
      "23000\n",
      "2388\n",
      "1249\n",
      "3244\n",
      "23000\n",
      "82277\n",
      "110626\n",
      "9972\n",
      "2500\n",
      "131902\n",
      "11500\n",
      "1602\n",
      "17000\n",
      "75070\n",
      "3347\n",
      "4337\n",
      "4352\n",
      "122798\n",
      "18588\n",
      "123415\n",
      "18588\n",
      "4230\n",
      "13941\n",
      "35882\n",
      "18588\n",
      "145849\n",
      "70905\n",
      "2200\n",
      "649\n",
      "128734\n",
      "26455\n",
      "7566\n",
      "138021\n",
      "1393\n",
      "86598\n",
      "3318\n",
      "15158\n",
      "8199\n",
      "129440\n",
      "3116\n",
      "82456\n",
      "20016\n",
      "117633\n",
      "6717\n",
      "78194\n",
      "20995\n",
      "120535\n",
      "3838\n",
      "108090\n",
      "60171\n",
      "83\n",
      "10250\n",
      "59640\n",
      "311\n",
      "118349\n",
      "31871\n",
      "224815\n",
      "93517\n",
      "893115\n",
      "66884\n",
      "39888\n",
      "53344\n",
      "145596\n",
      "156983\n",
      "30222\n"
     ]
    }
   ],
   "source": [
    "# переберём все значения, когда мы знаем, сколько значений в таблице\n",
    "wb = load_workbook(filename = 'may_bookings.xlsx')\n",
    "sheet = wb['List1']\n",
    "for i in range(1, 51):\n",
    "    for j in range(1, 3):\n",
    "        d = sheet.cell(row = i, column = j)\n",
    "        print(d.value)"
   ]
  },
  {
   "cell_type": "code",
   "execution_count": 50,
   "metadata": {},
   "outputs": [
    {
     "name": "stdout",
     "output_type": "stream",
     "text": [
      "5600\n",
      "66101\n",
      "3932\n",
      "50238\n",
      "11815\n",
      "56492\n",
      "25200\n",
      "62622\n",
      "23000\n",
      "12011\n",
      "924\n",
      "70895\n",
      "1041\n",
      "63128\n",
      "68479\n",
      "53013\n",
      "1760\n",
      "75819\n",
      "17000\n",
      "64722\n",
      "18588\n",
      "94971\n",
      "18000\n",
      "4929\n",
      "11402\n",
      "158927\n",
      "4308\n",
      "109947\n",
      "3697\n",
      "58195\n",
      "3586\n",
      "6732\n",
      "11079\n",
      "16201\n",
      "61402\n",
      "23000\n",
      "2388\n",
      "1249\n",
      "3244\n",
      "23000\n",
      "82277\n",
      "110626\n",
      "9972\n",
      "2500\n",
      "131902\n",
      "11500\n",
      "1602\n",
      "17000\n",
      "75070\n",
      "3347\n",
      "4337\n",
      "4352\n",
      "122798\n",
      "18588\n",
      "123415\n",
      "18588\n",
      "4230\n",
      "13941\n",
      "35882\n",
      "18588\n",
      "145849\n",
      "70905\n",
      "2200\n",
      "649\n",
      "128734\n",
      "26455\n",
      "7566\n",
      "138021\n",
      "1393\n",
      "86598\n",
      "3318\n",
      "15158\n",
      "8199\n",
      "129440\n",
      "3116\n",
      "82456\n",
      "20016\n",
      "117633\n",
      "6717\n",
      "78194\n",
      "20995\n",
      "120535\n",
      "3838\n",
      "108090\n",
      "60171\n",
      "83\n",
      "10250\n",
      "59640\n",
      "311\n",
      "118349\n",
      "31871\n",
      "224815\n",
      "93517\n",
      "893115\n",
      "66884\n",
      "39888\n",
      "53344\n",
      "145596\n",
      "156983\n",
      "30222\n"
     ]
    }
   ],
   "source": [
    "# как делать, если мы не знаем размер таблицы?\n",
    "wb = load_workbook(filename = 'may_bookings.xlsx')\n",
    "sheet = wb['List1']\n",
    "for i in range(sheet.min_row, sheet.max_row + 1):\n",
    "    for j in range(sheet.min_column, sheet.max_column + 1):\n",
    "        d = sheet.cell(row = i, column = j)\n",
    "        print(d.value)"
   ]
  },
  {
   "cell_type": "code",
   "execution_count": 51,
   "metadata": {},
   "outputs": [
    {
     "name": "stdout",
     "output_type": "stream",
     "text": [
      "5600\n",
      "66101\n",
      "3932\n",
      "50238\n",
      "11815\n",
      "56492\n"
     ]
    }
   ],
   "source": [
    "# возьмём данные из диапазона\n",
    "wb = load_workbook(filename = 'may_bookings.xlsx')\n",
    "sheet = wb['List1']\n",
    "\n",
    "for cellObj in sheet['A1':'B3']:\n",
    "    for cell in cellObj:\n",
    "        print(cell.value)"
   ]
  },
  {
   "cell_type": "code",
   "execution_count": 53,
   "metadata": {},
   "outputs": [],
   "source": [
    "wb = load_workbook(filename = 'may_bookings.xlsx')\n",
    "sheet = wb['List1']"
   ]
  },
  {
   "cell_type": "code",
   "execution_count": 55,
   "metadata": {},
   "outputs": [
    {
     "name": "stdout",
     "output_type": "stream",
     "text": [
      "{'Anna': 100, 'Alina': 80, 'Peskov': 666666}\n",
      "{'Alina': 'Moscow', 'Anna': 'Gatchina', 'Peskov': 'Moscow'}\n"
     ]
    }
   ],
   "source": [
    "# обращаемся к разным листам\n",
    "wb = load_workbook(filename = 'may_bookings.xlsx')\n",
    "sheet1 = wb['Salary']\n",
    "salary = {}\n",
    "\n",
    "for i in range(1, sheet1.max_row + 1):\n",
    "    name = sheet1.cell(row = i, column = 1).value\n",
    "    money = sheet1.cell(row = i, column = 2).value\n",
    "    salary[name] = money\n",
    "print(salary)\n",
    "\n",
    "sheet2 = wb['Region']\n",
    "region = {}\n",
    "\n",
    "for i in range(1, sheet2.max_row + 1):\n",
    "    name = sheet2.cell(row = i, column = 1).value\n",
    "    city = sheet2.cell(row = i, column = 2).value\n",
    "    region[name] = city\n",
    "print(region)"
   ]
  },
  {
   "cell_type": "code",
   "execution_count": 56,
   "metadata": {},
   "outputs": [],
   "source": [
    "# поправим файл и сохраним как новый \n",
    "wb = load_workbook(filename = 'may_bookings.xlsx')\n",
    "sheet1 = wb['Salary']\n",
    "\n",
    "sheet1['B3'] = 3\n",
    "\n",
    "wb.save('updated_file.xlsx')"
   ]
  },
  {
   "cell_type": "code",
   "execution_count": 57,
   "metadata": {},
   "outputs": [],
   "source": [
    "# поправим файл и сохраним как новый \n",
    "wb = load_workbook(filename = 'may_bookings.xlsx')\n",
    "sheet1 = wb['Salary']\n",
    "\n",
    "sheet1.append(['Sasha', 300])\n",
    "\n",
    "wb.save('updated_file_1.xlsx')"
   ]
  },
  {
   "cell_type": "markdown",
   "metadata": {},
   "source": [
    "Домашка - почитать документацию для библиотек, которые мы здесь использовали. Это будет нужно для решения задачек"
   ]
  }
 ],
 "metadata": {
  "kernelspec": {
   "display_name": "Python 3",
   "language": "python",
   "name": "python3"
  },
  "language_info": {
   "codemirror_mode": {
    "name": "ipython",
    "version": 3
   },
   "file_extension": ".py",
   "mimetype": "text/x-python",
   "name": "python",
   "nbconvert_exporter": "python",
   "pygments_lexer": "ipython3",
   "version": "3.7.1"
  }
 },
 "nbformat": 4,
 "nbformat_minor": 2
}
